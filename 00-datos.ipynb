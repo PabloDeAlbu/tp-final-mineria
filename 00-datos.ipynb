{
 "cells": [
  {
   "cell_type": "code",
   "execution_count": 1,
   "metadata": {},
   "outputs": [
    {
     "name": "stdout",
     "output_type": "stream",
     "text": [
      "<class 'pandas.core.frame.DataFrame'>\n",
      "RangeIndex: 89054 entries, 0 to 89053\n",
      "Data columns (total 8 columns):\n",
      " #   Column      Non-Null Count  Dtype                    \n",
      "---  ------      --------------  -----                    \n",
      " 0   ip          89054 non-null  string                   \n",
      " 1   time        89054 non-null  datetime64[ns, UTC-03:00]\n",
      " 2   request     89054 non-null  string                   \n",
      " 3   status      89054 non-null  Int64                    \n",
      " 4   size        89054 non-null  Int64                    \n",
      " 5   Referer     16769 non-null  string                   \n",
      " 6   User_agent  88973 non-null  string                   \n",
      " 7   spambot     89054 non-null  boolean                  \n",
      "dtypes: Int64(2), boolean(1), datetime64[ns, UTC-03:00](1), string(4)\n",
      "memory usage: 5.1 MB\n"
     ]
    }
   ],
   "source": [
    "import pandas as pd \n",
    "import matplotlib.pyplot as plt\n",
    "from sklearn import preprocessing \n",
    "\n",
    "df = pd.read_parquet('data/df_log.parquet.gzip')\n",
    "df = df.convert_dtypes()\n",
    "df.info()"
   ]
  },
  {
   "cell_type": "code",
   "execution_count": 2,
   "metadata": {},
   "outputs": [
    {
     "data": {
      "text/html": [
       "<div>\n",
       "<style scoped>\n",
       "    .dataframe tbody tr th:only-of-type {\n",
       "        vertical-align: middle;\n",
       "    }\n",
       "\n",
       "    .dataframe tbody tr th {\n",
       "        vertical-align: top;\n",
       "    }\n",
       "\n",
       "    .dataframe thead th {\n",
       "        text-align: right;\n",
       "    }\n",
       "</style>\n",
       "<table border=\"1\" class=\"dataframe\">\n",
       "  <thead>\n",
       "    <tr style=\"text-align: right;\">\n",
       "      <th></th>\n",
       "      <th>ip</th>\n",
       "      <th>time</th>\n",
       "      <th>request</th>\n",
       "      <th>status</th>\n",
       "      <th>size</th>\n",
       "      <th>Referer</th>\n",
       "      <th>User_agent</th>\n",
       "      <th>spambot</th>\n",
       "    </tr>\n",
       "  </thead>\n",
       "  <tbody>\n",
       "    <tr>\n",
       "      <th>0</th>\n",
       "      <td>3.224.220.101</td>\n",
       "      <td>2022-03-31 00:00:13-03:00</td>\n",
       "      <td>GET /handle/10915/60216/browse?authority=http%...</td>\n",
       "      <td>200</td>\n",
       "      <td>7165</td>\n",
       "      <td>&lt;NA&gt;</td>\n",
       "      <td>Mozilla/5.0 (Macintosh; Intel Mac OS X 10_10_1...</td>\n",
       "      <td>True</td>\n",
       "    </tr>\n",
       "    <tr>\n",
       "      <th>1</th>\n",
       "      <td>173.252.107.9</td>\n",
       "      <td>2022-03-31 00:00:13-03:00</td>\n",
       "      <td>GET /handle/10915/45833 HTTP/1.1</td>\n",
       "      <td>200</td>\n",
       "      <td>9539</td>\n",
       "      <td>&lt;NA&gt;</td>\n",
       "      <td>facebookexternalhit/1.1 (+http://www.facebook....</td>\n",
       "      <td>True</td>\n",
       "    </tr>\n",
       "    <tr>\n",
       "      <th>2</th>\n",
       "      <td>173.252.107.3</td>\n",
       "      <td>2022-03-31 00:00:13-03:00</td>\n",
       "      <td>GET /handle/10915/31292 HTTP/1.1</td>\n",
       "      <td>200</td>\n",
       "      <td>9512</td>\n",
       "      <td>&lt;NA&gt;</td>\n",
       "      <td>facebookexternalhit/1.1 (+http://www.facebook....</td>\n",
       "      <td>True</td>\n",
       "    </tr>\n",
       "    <tr>\n",
       "      <th>3</th>\n",
       "      <td>173.252.107.22</td>\n",
       "      <td>2022-03-31 00:00:14-03:00</td>\n",
       "      <td>GET /handle/10915/66507 HTTP/1.1</td>\n",
       "      <td>200</td>\n",
       "      <td>10170</td>\n",
       "      <td>&lt;NA&gt;</td>\n",
       "      <td>facebookexternalhit/1.1 (+http://www.facebook....</td>\n",
       "      <td>True</td>\n",
       "    </tr>\n",
       "    <tr>\n",
       "      <th>4</th>\n",
       "      <td>173.252.107.9</td>\n",
       "      <td>2022-03-31 00:00:14-03:00</td>\n",
       "      <td>GET /handle/10915/66507 HTTP/1.1</td>\n",
       "      <td>200</td>\n",
       "      <td>10170</td>\n",
       "      <td>&lt;NA&gt;</td>\n",
       "      <td>facebookexternalhit/1.1 (+http://www.facebook....</td>\n",
       "      <td>True</td>\n",
       "    </tr>\n",
       "  </tbody>\n",
       "</table>\n",
       "</div>"
      ],
      "text/plain": [
       "               ip                      time  \\\n",
       "0   3.224.220.101 2022-03-31 00:00:13-03:00   \n",
       "1   173.252.107.9 2022-03-31 00:00:13-03:00   \n",
       "2   173.252.107.3 2022-03-31 00:00:13-03:00   \n",
       "3  173.252.107.22 2022-03-31 00:00:14-03:00   \n",
       "4   173.252.107.9 2022-03-31 00:00:14-03:00   \n",
       "\n",
       "                                             request  status   size Referer  \\\n",
       "0  GET /handle/10915/60216/browse?authority=http%...     200   7165    <NA>   \n",
       "1                   GET /handle/10915/45833 HTTP/1.1     200   9539    <NA>   \n",
       "2                   GET /handle/10915/31292 HTTP/1.1     200   9512    <NA>   \n",
       "3                   GET /handle/10915/66507 HTTP/1.1     200  10170    <NA>   \n",
       "4                   GET /handle/10915/66507 HTTP/1.1     200  10170    <NA>   \n",
       "\n",
       "                                          User_agent  spambot  \n",
       "0  Mozilla/5.0 (Macintosh; Intel Mac OS X 10_10_1...     True  \n",
       "1  facebookexternalhit/1.1 (+http://www.facebook....     True  \n",
       "2  facebookexternalhit/1.1 (+http://www.facebook....     True  \n",
       "3  facebookexternalhit/1.1 (+http://www.facebook....     True  \n",
       "4  facebookexternalhit/1.1 (+http://www.facebook....     True  "
      ]
     },
     "execution_count": 2,
     "metadata": {},
     "output_type": "execute_result"
    }
   ],
   "source": [
    "df.head(5)"
   ]
  },
  {
   "cell_type": "code",
   "execution_count": 3,
   "metadata": {},
   "outputs": [
    {
     "data": {
      "text/html": [
       "<div>\n",
       "<style scoped>\n",
       "    .dataframe tbody tr th:only-of-type {\n",
       "        vertical-align: middle;\n",
       "    }\n",
       "\n",
       "    .dataframe tbody tr th {\n",
       "        vertical-align: top;\n",
       "    }\n",
       "\n",
       "    .dataframe thead th {\n",
       "        text-align: right;\n",
       "    }\n",
       "</style>\n",
       "<table border=\"1\" class=\"dataframe\">\n",
       "  <thead>\n",
       "    <tr style=\"text-align: right;\">\n",
       "      <th></th>\n",
       "      <th>ip</th>\n",
       "      <th>spambot</th>\n",
       "      <th>count</th>\n",
       "      <th>size</th>\n",
       "    </tr>\n",
       "  </thead>\n",
       "  <tbody>\n",
       "    <tr>\n",
       "      <th>0</th>\n",
       "      <td>1.38.188.99</td>\n",
       "      <td>False</td>\n",
       "      <td>1</td>\n",
       "      <td>712495</td>\n",
       "    </tr>\n",
       "    <tr>\n",
       "      <th>1</th>\n",
       "      <td>1.47.151.27</td>\n",
       "      <td>False</td>\n",
       "      <td>2</td>\n",
       "      <td>1630020</td>\n",
       "    </tr>\n",
       "    <tr>\n",
       "      <th>2</th>\n",
       "      <td>1.85.11.244</td>\n",
       "      <td>False</td>\n",
       "      <td>1</td>\n",
       "      <td>497562</td>\n",
       "    </tr>\n",
       "    <tr>\n",
       "      <th>3</th>\n",
       "      <td>100.24.12.213</td>\n",
       "      <td>False</td>\n",
       "      <td>2</td>\n",
       "      <td>13623</td>\n",
       "    </tr>\n",
       "    <tr>\n",
       "      <th>4</th>\n",
       "      <td>101.108.5.245</td>\n",
       "      <td>False</td>\n",
       "      <td>1</td>\n",
       "      <td>7725352</td>\n",
       "    </tr>\n",
       "    <tr>\n",
       "      <th>...</th>\n",
       "      <td>...</td>\n",
       "      <td>...</td>\n",
       "      <td>...</td>\n",
       "      <td>...</td>\n",
       "    </tr>\n",
       "    <tr>\n",
       "      <th>8900</th>\n",
       "      <td>98.126.219.75</td>\n",
       "      <td>False</td>\n",
       "      <td>2</td>\n",
       "      <td>1184056</td>\n",
       "    </tr>\n",
       "    <tr>\n",
       "      <th>8901</th>\n",
       "      <td>98.167.168.137</td>\n",
       "      <td>False</td>\n",
       "      <td>2</td>\n",
       "      <td>224700</td>\n",
       "    </tr>\n",
       "    <tr>\n",
       "      <th>8902</th>\n",
       "      <td>98.176.225.232</td>\n",
       "      <td>False</td>\n",
       "      <td>2</td>\n",
       "      <td>14582</td>\n",
       "    </tr>\n",
       "    <tr>\n",
       "      <th>8903</th>\n",
       "      <td>99.150.195.19</td>\n",
       "      <td>False</td>\n",
       "      <td>6</td>\n",
       "      <td>53034</td>\n",
       "    </tr>\n",
       "    <tr>\n",
       "      <th>8904</th>\n",
       "      <td>99.179.18.55</td>\n",
       "      <td>False</td>\n",
       "      <td>1</td>\n",
       "      <td>3768662</td>\n",
       "    </tr>\n",
       "  </tbody>\n",
       "</table>\n",
       "<p>8905 rows × 4 columns</p>\n",
       "</div>"
      ],
      "text/plain": [
       "                  ip  spambot  count     size\n",
       "0        1.38.188.99    False      1   712495\n",
       "1        1.47.151.27    False      2  1630020\n",
       "2        1.85.11.244    False      1   497562\n",
       "3      100.24.12.213    False      2    13623\n",
       "4      101.108.5.245    False      1  7725352\n",
       "...              ...      ...    ...      ...\n",
       "8900   98.126.219.75    False      2  1184056\n",
       "8901  98.167.168.137    False      2   224700\n",
       "8902  98.176.225.232    False      2    14582\n",
       "8903   99.150.195.19    False      6    53034\n",
       "8904    99.179.18.55    False      1  3768662\n",
       "\n",
       "[8905 rows x 4 columns]"
      ]
     },
     "execution_count": 3,
     "metadata": {},
     "output_type": "execute_result"
    }
   ],
   "source": [
    "df_groupby_ip = df.groupby(['ip','spambot'], as_index=False).size().rename(columns={'size':'count'}) # agrupo por ip y agrego un columna count con la cantidad de requests hechas \n",
    "df_groupby_ip['size'] = df.groupby(['ip','spambot'], as_index=False)['size'].sum()['size'] # agrego a df_groupby_ip una columna con la cantidad de bytes descargados en un día\n",
    "df_groupby_ip"
   ]
  },
  {
   "cell_type": "code",
   "execution_count": 10,
   "metadata": {},
   "outputs": [
    {
     "data": {
      "text/plain": [
       "ip          string\n",
       "spambot    boolean\n",
       "count        int64\n",
       "size         Int64\n",
       "dtype: object"
      ]
     },
     "execution_count": 10,
     "metadata": {},
     "output_type": "execute_result"
    }
   ],
   "source": [
    "df_groupby_ip.dtypes"
   ]
  },
  {
   "cell_type": "markdown",
   "metadata": {},
   "source": [
    "### Graficando los datos en escala original\n"
   ]
  },
  {
   "cell_type": "code",
   "execution_count": 5,
   "metadata": {},
   "outputs": [
    {
     "data": {
      "image/png": "[encoded data removed]",
      "text/plain": [
       "<Figure size 1080x360 with 3 Axes>"
      ]
     },
     "metadata": {
      "needs_background": "light"
     },
     "output_type": "display_data"
    }
   ],
   "source": [
    "fig = plt.figure(figsize=(15, 5))\n",
    "ax1 = fig.add_subplot(1, 3, 1)\n",
    "ax2 = fig.add_subplot(1, 3, 2)\n",
    "ax3 = fig.add_subplot(1, 3, 3)\n",
    "ax1.set_title(\"Datos Originales Juntos\")\n",
    "ax1.plot(df_groupby_ip[['count','size']])\n",
    "ax2.set_title(\"Cantidad de requests\")\n",
    "ax2.plot(df_groupby_ip[\"count\"], linewidth=0, marker=\"o\", color=\"blue\", markersize=6)\n",
    "ax3.set_title(\"Cantidad de bytes descargados\")\n",
    "ax3.plot(df_groupby_ip[\"size\"], linewidth=0, marker=\"+\", color=\"orange\", markersize=16)\n",
    "plt.show()\n",
    "\n",
    "#datos_robust_scaler = pd.DataFrame(datos_robust_scaler, columns=[\"ingreso\", \"carros\"])\n"
   ]
  },
  {
   "cell_type": "markdown",
   "metadata": {},
   "source": [
    "### Distribución de los datos originales"
   ]
  },
  {
   "cell_type": "code",
   "execution_count": 6,
   "metadata": {},
   "outputs": [
    {
     "data": {
      "image/png": "[encoded data removed]",
      "text/plain": [
       "<Figure size 576x576 with 4 Axes>"
      ]
     },
     "metadata": {
      "needs_background": "light"
     },
     "output_type": "display_data"
    }
   ],
   "source": [
    "fig = plt.figure(figsize=(8, 8))\n",
    "ax1 = fig.add_subplot(2, 2, 1)\n",
    "ax2 = fig.add_subplot(2, 2, 2)\n",
    "ax3 = fig.add_subplot(2, 2, 3)\n",
    "ax4 = fig.add_subplot(2, 2, 4)\n",
    "ax1.set_title(\"Cantidad de requests\")\n",
    "ax1.plot(df_groupby_ip[\"count\"], linewidth=0, marker=\"o\", color=\"blue\", markersize=6)\n",
    "ax2.set_title(\"Bytes descargados\")\n",
    "ax2.plot(df_groupby_ip[\"size\"], linewidth=0, marker=\"+\", color=\"orange\", markersize=16)\n",
    "ax3.set_title(\"Cantidad de requests\")\n",
    "ax3.hist(df_groupby_ip[\"count\"], bins=100, color=\"blue\")\n",
    "ax4.set_title(\"Bytes descargados\")\n",
    "ax4.hist(df_groupby_ip[\"size\"], color=\"orange\")\n",
    "plt.show()"
   ]
  },
  {
   "cell_type": "code",
   "execution_count": 12,
   "metadata": {},
   "outputs": [],
   "source": [
    "datos_robust_scaler = preprocessing.RobustScaler().fit_transform(df_groupby_ip[[\"count\", \"size\"]])\n",
    "datos_robust_scaler = pd.DataFrame(datos_robust_scaler, columns=[\"count\", \"size\"])\n"
   ]
  },
  {
   "cell_type": "code",
   "execution_count": 14,
   "metadata": {},
   "outputs": [
    {
     "data": {
      "image/png": "[encoded data removed]",
      "text/plain": [
       "<Figure size 432x288 with 1 Axes>"
      ]
     },
     "metadata": {
      "needs_background": "light"
     },
     "output_type": "display_data"
    }
   ],
   "source": [
    "plt.hist(datos_robust_scaler[\"count\"], color=\"red\", bins=100)\n",
    "plt.show()"
   ]
  },
  {
   "cell_type": "code",
   "execution_count": 15,
   "metadata": {},
   "outputs": [
    {
     "data": {
      "image/png": "[encoded data removed]",
      "text/plain": [
       "<Figure size 432x288 with 1 Axes>"
      ]
     },
     "metadata": {
      "needs_background": "light"
     },
     "output_type": "display_data"
    }
   ],
   "source": [
    "plt.hist(datos_robust_scaler[\"size\"], color=\"red\", bins=100)\n",
    "plt.show()"
   ]
  },
  {
   "cell_type": "code",
   "execution_count": 16,
   "metadata": {},
   "outputs": [
    {
     "data": {
      "text/html": [
       "<div>\n",
       "<style scoped>\n",
       "    .dataframe tbody tr th:only-of-type {\n",
       "        vertical-align: middle;\n",
       "    }\n",
       "\n",
       "    .dataframe tbody tr th {\n",
       "        vertical-align: top;\n",
       "    }\n",
       "\n",
       "    .dataframe thead th {\n",
       "        text-align: right;\n",
       "    }\n",
       "</style>\n",
       "<table border=\"1\" class=\"dataframe\">\n",
       "  <thead>\n",
       "    <tr style=\"text-align: right;\">\n",
       "      <th></th>\n",
       "      <th>spambot</th>\n",
       "      <th>count</th>\n",
       "      <th>size</th>\n",
       "    </tr>\n",
       "  </thead>\n",
       "  <tbody>\n",
       "    <tr>\n",
       "      <th>0</th>\n",
       "      <td>False</td>\n",
       "      <td>1</td>\n",
       "      <td>712495</td>\n",
       "    </tr>\n",
       "    <tr>\n",
       "      <th>1</th>\n",
       "      <td>False</td>\n",
       "      <td>2</td>\n",
       "      <td>1630020</td>\n",
       "    </tr>\n",
       "    <tr>\n",
       "      <th>2</th>\n",
       "      <td>False</td>\n",
       "      <td>1</td>\n",
       "      <td>497562</td>\n",
       "    </tr>\n",
       "    <tr>\n",
       "      <th>3</th>\n",
       "      <td>False</td>\n",
       "      <td>2</td>\n",
       "      <td>13623</td>\n",
       "    </tr>\n",
       "    <tr>\n",
       "      <th>4</th>\n",
       "      <td>False</td>\n",
       "      <td>1</td>\n",
       "      <td>7725352</td>\n",
       "    </tr>\n",
       "    <tr>\n",
       "      <th>...</th>\n",
       "      <td>...</td>\n",
       "      <td>...</td>\n",
       "      <td>...</td>\n",
       "    </tr>\n",
       "    <tr>\n",
       "      <th>8900</th>\n",
       "      <td>False</td>\n",
       "      <td>2</td>\n",
       "      <td>1184056</td>\n",
       "    </tr>\n",
       "    <tr>\n",
       "      <th>8901</th>\n",
       "      <td>False</td>\n",
       "      <td>2</td>\n",
       "      <td>224700</td>\n",
       "    </tr>\n",
       "    <tr>\n",
       "      <th>8902</th>\n",
       "      <td>False</td>\n",
       "      <td>2</td>\n",
       "      <td>14582</td>\n",
       "    </tr>\n",
       "    <tr>\n",
       "      <th>8903</th>\n",
       "      <td>False</td>\n",
       "      <td>6</td>\n",
       "      <td>53034</td>\n",
       "    </tr>\n",
       "    <tr>\n",
       "      <th>8904</th>\n",
       "      <td>False</td>\n",
       "      <td>1</td>\n",
       "      <td>3768662</td>\n",
       "    </tr>\n",
       "  </tbody>\n",
       "</table>\n",
       "<p>8905 rows × 3 columns</p>\n",
       "</div>"
      ],
      "text/plain": [
       "      spambot  count     size\n",
       "0       False      1   712495\n",
       "1       False      2  1630020\n",
       "2       False      1   497562\n",
       "3       False      2    13623\n",
       "4       False      1  7725352\n",
       "...       ...    ...      ...\n",
       "8900    False      2  1184056\n",
       "8901    False      2   224700\n",
       "8902    False      2    14582\n",
       "8903    False      6    53034\n",
       "8904    False      1  3768662\n",
       "\n",
       "[8905 rows x 3 columns]"
      ]
     },
     "execution_count": 16,
     "metadata": {},
     "output_type": "execute_result"
    }
   ],
   "source": [
    "df_co = df_groupby_ip.iloc[:,1:]\n",
    "df_co"
   ]
  },
  {
   "cell_type": "code",
   "execution_count": 18,
   "metadata": {},
   "outputs": [
    {
     "data": {
      "image/png": "[encoded data removed]",
      "text/plain": [
       "<Figure size 288x288 with 2 Axes>"
      ]
     },
     "metadata": {
      "needs_background": "light"
     },
     "output_type": "display_data"
    }
   ],
   "source": [
    "matriz = df_co.corr() # -1 (existe una relación fuerte)  0   1 (existe relación fuerte)\n",
    "plt.matshow(matriz, cmap=\"bwr\", vmin=-1, vmax=1)\n",
    "plt.xticks(range(3), df_co.columns, rotation=90)\n",
    "plt.yticks(range(3), df_co.columns)\n",
    "\n",
    "for i in range(len(matriz.columns)):\n",
    "    for j in range(len(matriz.columns)):\n",
    "        plt.text(i, j, round(matriz.iloc[i, j], 2),\n",
    "                 ha=\"center\", va=\"center\")\n",
    "\n",
    "\n",
    "plt.colorbar()\n",
    "plt.show()"
   ]
  }
 ],
 "metadata": {
  "interpreter": {
   "hash": "323f3daf613934cbc2131bc14f6ed6640dd8862511c72730bbc3cfd27a94f888"
  },
  "kernelspec": {
   "display_name": "Python 3.10.4 ('mineria-datos')",
   "language": "python",
   "name": "python3"
  },
  "language_info": {
   "codemirror_mode": {
    "name": "ipython",
    "version": 3
   },
   "file_extension": ".py",
   "mimetype": "text/x-python",
   "name": "python",
   "nbconvert_exporter": "python",
   "pygments_lexer": "ipython3",
   "version": "3.9.12"
  },
  "orig_nbformat": 4
 },
 "nbformat": 4,
 "nbformat_minor": 2
}
