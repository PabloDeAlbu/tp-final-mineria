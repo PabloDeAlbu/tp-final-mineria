{
 "cells": [
  {
   "cell_type": "markdown",
   "metadata": {},
   "source": [
    "# Trabajo final de minería de datos\n",
    "\n",
    "El objetivo de esta actividad es relacionar los temas vistos en el curso a través de su\n",
    "aplicación en la resolución de un caso concreto.\n",
    "Si no dispone de un juego de datos propio para analizar, puede consultar los siguientes\n",
    "repositorios:\n",
    "\n",
    "* UCI (http://mlr.cs.umass.edu/ml/)\n",
    "* Kaggle (https://www.kaggle.com/datasets)\n",
    "* KEEL (https://sci2s.ugr.es/keel/datasets.php)\n",
    "\n",
    "Una vez elegido el conjunto de datos, deberá desarrollar un conjunto de hipótesis sobre el\n",
    "mismo que luego podrá evaluar con las técnicas vistas.\n",
    "Se espera que aplique 2 (dos) de las técnicas vistas en el curso para resolver algún aspecto\n",
    "del problema. Dichas técnicas son: **Técnicas de agrupamiento (clustering), Clasificador\n",
    "Naive Bayes, Arboles de clasificación, Reglas de clasificación, Reglas de asociación y Redes\n",
    "Neuronales**.\n",
    "\n",
    "Deberá entregar un informe detallando para cada técnica utilizada:\n",
    "- El tipo de problema a resolver (descriptivo o predictivo)\n",
    "- El procesamiento realizado sobre los datos y el efecto que dicho procesamiento\n",
    "tiene en las distribuciones originales.\n",
    "- El modelo obtenido.\n",
    "- La interpretación/explicación de los resultados obtenidos."
   ]
  },
  {
   "cell_type": "code",
   "execution_count": 47,
   "metadata": {},
   "outputs": [],
   "source": [
    "import pandas as pd"
   ]
  },
  {
   "cell_type": "markdown",
   "metadata": {},
   "source": [
    "Cargo un archivo csv, creado a partir de los accesos al servidor de apache de SEDICI, correspondientes a un día entero. "
   ]
  },
  {
   "cell_type": "code",
   "execution_count": 48,
   "metadata": {},
   "outputs": [
    {
     "name": "stdout",
     "output_type": "stream",
     "text": [
      "<class 'pandas.core.frame.DataFrame'>\n",
      "RangeIndex: 40912 entries, 0 to 40911\n",
      "Data columns (total 9 columns):\n",
      " #   Column      Non-Null Count  Dtype  \n",
      "---  ------      --------------  -----  \n",
      " 0   ip          40912 non-null  object \n",
      " 1   identd      0 non-null      float64\n",
      " 2   user        0 non-null      float64\n",
      " 3   time        40912 non-null  object \n",
      " 4   request     40912 non-null  object \n",
      " 5   status      40912 non-null  float64\n",
      " 6   size        40912 non-null  float64\n",
      " 7   Referer     13814 non-null  object \n",
      " 8   User_agent  40765 non-null  object \n",
      "dtypes: float64(4), object(5)\n",
      "memory usage: 2.8+ MB\n"
     ]
    }
   ],
   "source": [
    "df = pd.read_csv('data/access-log.csv')\n",
    "df.info()"
   ]
  },
  {
   "cell_type": "code",
   "execution_count": null,
   "metadata": {},
   "outputs": [],
   "source": []
  },
  {
   "cell_type": "markdown",
   "metadata": {},
   "source": [
    "Quito columnas que tienen todos sus valores nulos"
   ]
  },
  {
   "cell_type": "code",
   "execution_count": 49,
   "metadata": {},
   "outputs": [],
   "source": [
    "df = df.drop(['identd', 'user'], axis=1)"
   ]
  },
  {
   "cell_type": "markdown",
   "metadata": {},
   "source": [
    "Convierto tipos de datos"
   ]
  },
  {
   "cell_type": "code",
   "execution_count": 50,
   "metadata": {},
   "outputs": [
    {
     "name": "stdout",
     "output_type": "stream",
     "text": [
      "<class 'pandas.core.frame.DataFrame'>\n",
      "RangeIndex: 40912 entries, 0 to 40911\n",
      "Data columns (total 7 columns):\n",
      " #   Column      Non-Null Count  Dtype \n",
      "---  ------      --------------  ----- \n",
      " 0   ip          40912 non-null  string\n",
      " 1   time        40912 non-null  string\n",
      " 2   request     40912 non-null  string\n",
      " 3   status      40912 non-null  Int64 \n",
      " 4   size        40912 non-null  Int64 \n",
      " 5   Referer     13814 non-null  string\n",
      " 6   User_agent  40765 non-null  string\n",
      "dtypes: Int64(2), string(5)\n",
      "memory usage: 2.3 MB\n"
     ]
    }
   ],
   "source": [
    "df = df.convert_dtypes()\n",
    "df.info()"
   ]
  },
  {
   "cell_type": "markdown",
   "metadata": {},
   "source": [
    "Reemplazo valores nulos en User_agent con el texto 'NOTSET'"
   ]
  },
  {
   "cell_type": "code",
   "execution_count": 51,
   "metadata": {},
   "outputs": [],
   "source": [
    "df['User_agent'] = df['User_agent'].fillna(value='NULL')\n",
    "df['Referer'] = df['Referer'].fillna(value='NULL')"
   ]
  },
  {
   "cell_type": "code",
   "execution_count": 52,
   "metadata": {},
   "outputs": [
    {
     "data": {
      "text/html": [
       "<div>\n",
       "<style scoped>\n",
       "    .dataframe tbody tr th:only-of-type {\n",
       "        vertical-align: middle;\n",
       "    }\n",
       "\n",
       "    .dataframe tbody tr th {\n",
       "        vertical-align: top;\n",
       "    }\n",
       "\n",
       "    .dataframe thead th {\n",
       "        text-align: right;\n",
       "    }\n",
       "</style>\n",
       "<table border=\"1\" class=\"dataframe\">\n",
       "  <thead>\n",
       "    <tr style=\"text-align: right;\">\n",
       "      <th></th>\n",
       "      <th>ip</th>\n",
       "      <th>time</th>\n",
       "      <th>request</th>\n",
       "      <th>status</th>\n",
       "      <th>size</th>\n",
       "      <th>Referer</th>\n",
       "      <th>User_agent</th>\n",
       "    </tr>\n",
       "  </thead>\n",
       "  <tbody>\n",
       "    <tr>\n",
       "      <th>0</th>\n",
       "      <td>54.36.148.250</td>\n",
       "      <td>2021-11-08 00:00:14-03:00</td>\n",
       "      <td>GET /bitstream/handle/10915/37522/Tesis%20Igna...</td>\n",
       "      <td>200</td>\n",
       "      <td>4737</td>\n",
       "      <td>NULL</td>\n",
       "      <td>Mozilla/5.0 (compatible; AhrefsBot/7.0; +http:...</td>\n",
       "    </tr>\n",
       "    <tr>\n",
       "      <th>1</th>\n",
       "      <td>189.151.64.47</td>\n",
       "      <td>2021-11-08 00:00:12-03:00</td>\n",
       "      <td>GET /bitstream/handle/10915/107834/Tesis_Docto...</td>\n",
       "      <td>200</td>\n",
       "      <td>4363</td>\n",
       "      <td>http://sedici.unlp.edu.ar/handle/10915/107834</td>\n",
       "      <td>Mozilla/5.0 (Windows NT 10.0; Win64; x64) Appl...</td>\n",
       "    </tr>\n",
       "    <tr>\n",
       "      <th>2</th>\n",
       "      <td>54.85.17.105</td>\n",
       "      <td>2021-11-08 00:00:14-03:00</td>\n",
       "      <td>GET /handle/10915/127606 HTTP/1.1</td>\n",
       "      <td>200</td>\n",
       "      <td>9584</td>\n",
       "      <td>NULL</td>\n",
       "      <td>Unpaywall (http://unpaywall.org/; mailto:team@...</td>\n",
       "    </tr>\n",
       "    <tr>\n",
       "      <th>3</th>\n",
       "      <td>54.36.148.250</td>\n",
       "      <td>2021-11-08 00:00:14-03:00</td>\n",
       "      <td>GET /bitstream/handle/10915/37522/Tesis%20Igna...</td>\n",
       "      <td>200</td>\n",
       "      <td>4737</td>\n",
       "      <td>NULL</td>\n",
       "      <td>Mozilla/5.0 (compatible; AhrefsBot/7.0; +http:...</td>\n",
       "    </tr>\n",
       "    <tr>\n",
       "      <th>4</th>\n",
       "      <td>189.151.64.47</td>\n",
       "      <td>2021-11-08 00:00:12-03:00</td>\n",
       "      <td>GET /bitstream/handle/10915/107834/Tesis_Docto...</td>\n",
       "      <td>200</td>\n",
       "      <td>4363</td>\n",
       "      <td>http://sedici.unlp.edu.ar/handle/10915/107834</td>\n",
       "      <td>Mozilla/5.0 (Windows NT 10.0; Win64; x64) Appl...</td>\n",
       "    </tr>\n",
       "  </tbody>\n",
       "</table>\n",
       "</div>"
      ],
      "text/plain": [
       "              ip                       time  \\\n",
       "0  54.36.148.250  2021-11-08 00:00:14-03:00   \n",
       "1  189.151.64.47  2021-11-08 00:00:12-03:00   \n",
       "2   54.85.17.105  2021-11-08 00:00:14-03:00   \n",
       "3  54.36.148.250  2021-11-08 00:00:14-03:00   \n",
       "4  189.151.64.47  2021-11-08 00:00:12-03:00   \n",
       "\n",
       "                                             request  status  size  \\\n",
       "0  GET /bitstream/handle/10915/37522/Tesis%20Igna...     200  4737   \n",
       "1  GET /bitstream/handle/10915/107834/Tesis_Docto...     200  4363   \n",
       "2                  GET /handle/10915/127606 HTTP/1.1     200  9584   \n",
       "3  GET /bitstream/handle/10915/37522/Tesis%20Igna...     200  4737   \n",
       "4  GET /bitstream/handle/10915/107834/Tesis_Docto...     200  4363   \n",
       "\n",
       "                                         Referer  \\\n",
       "0                                           NULL   \n",
       "1  http://sedici.unlp.edu.ar/handle/10915/107834   \n",
       "2                                           NULL   \n",
       "3                                           NULL   \n",
       "4  http://sedici.unlp.edu.ar/handle/10915/107834   \n",
       "\n",
       "                                          User_agent  \n",
       "0  Mozilla/5.0 (compatible; AhrefsBot/7.0; +http:...  \n",
       "1  Mozilla/5.0 (Windows NT 10.0; Win64; x64) Appl...  \n",
       "2  Unpaywall (http://unpaywall.org/; mailto:team@...  \n",
       "3  Mozilla/5.0 (compatible; AhrefsBot/7.0; +http:...  \n",
       "4  Mozilla/5.0 (Windows NT 10.0; Win64; x64) Appl...  "
      ]
     },
     "execution_count": 52,
     "metadata": {},
     "output_type": "execute_result"
    }
   ],
   "source": [
    "df.head(5)"
   ]
  },
  {
   "cell_type": "markdown",
   "metadata": {},
   "source": [
    "Habria que:\n",
    "1. Agrupar por ips\n",
    "2. agregar una columna de si se declara como bot o no\n",
    "3. detectar request beneficiosos? a partir de alguna regex, o algo similar, que devuelva los requests que hacen visitias o descargas de itemes, descartando vista de search (que no nos interesan tanto que sean indexadas) o una metrica que sea \n",
    "\n",
    "\"cantidad de accesos buenos\"/\"cantidad de accesos en el dia\"\n",
    "\n",
    "4. ver reglas de fail2ban para detecatar bots malicisos\n",
    "5. ver como dspace detecta bots en [SpiderDetectorServiceImpl.java](https://github.com/DSpace/DSpace/blob/main/dspace-api/src/main/java/org/dspace/statistics/util/SpiderDetectorServiceImpl.java)\n",
    "6. whois por ips"
   ]
  },
  {
   "cell_type": "markdown",
   "metadata": {},
   "source": [
    "Para leer\n",
    "* [uno de fp-growth](https://towardsdatascience.com/fp-growth-frequent-pattern-generation-in-data-mining-with-python-implementation-244e561ab1c3) y [otro de fp-growth](https://towardsdatascience.com/understand-and-build-fp-growth-algorithm-in-python-d8b989bab342)\n",
    "* [processing apache access-log with k-means clustering algorithm](https://www.joe0.com/2017/02/12/processing-apache-access-log-with-k-means-clustering-algorithm/) y [applying big data analytics to logging](https://www.joe0.com/2017/02/05/applying-big-data-analytics-to-logging/)\n",
    "* [k-means en python paso a paso](https://www.aprendemachinelearning.com/k-means-en-python-paso-a-paso/) y [7 pasos machine learning construir maquina](https://www.aprendemachinelearning.com/7-pasos-machine-learning-construir-maquina/)"
   ]
  },
  {
   "cell_type": "code",
   "execution_count": 53,
   "metadata": {},
   "outputs": [
    {
     "name": "stdout",
     "output_type": "stream",
     "text": [
      "286384\n",
      "25312\n"
     ]
    }
   ],
   "source": [
    "print(df.size)\n",
    "print(df[df[\"User_agent\"].str.contains('googlebot.com|google.com', na=False)].size)"
   ]
  },
  {
   "cell_type": "code",
   "execution_count": null,
   "metadata": {},
   "outputs": [],
   "source": []
  },
  {
   "cell_type": "code",
   "execution_count": 54,
   "metadata": {},
   "outputs": [],
   "source": [
    "import requests, json\n",
    "url = requests.get(\"https://developers.google.com/search/apis/ipranges/googlebot.json\")\n",
    "text = url.text\n",
    "data = json.loads(text)"
   ]
  },
  {
   "cell_type": "markdown",
   "metadata": {},
   "source": [
    "Ver como hizo https://blog.majsky.cz/detecting-google-bot-python-and-django/"
   ]
  },
  {
   "cell_type": "code",
   "execution_count": 55,
   "metadata": {},
   "outputs": [
    {
     "data": {
      "text/plain": [
       "False"
      ]
     },
     "execution_count": 55,
     "metadata": {},
     "output_type": "execute_result"
    }
   ],
   "source": [
    "import ipaddress\n",
    "ipaddress.ip_address('192.168.0.1') in ipaddress.ip_network('66.249.79.224/27')"
   ]
  },
  {
   "cell_type": "markdown",
   "metadata": {},
   "source": [
    "K-Means a partir del tamaño de los requests"
   ]
  },
  {
   "cell_type": "code",
   "execution_count": 56,
   "metadata": {},
   "outputs": [
    {
     "data": {
      "text/html": [
       "<div>\n",
       "<style scoped>\n",
       "    .dataframe tbody tr th:only-of-type {\n",
       "        vertical-align: middle;\n",
       "    }\n",
       "\n",
       "    .dataframe tbody tr th {\n",
       "        vertical-align: top;\n",
       "    }\n",
       "\n",
       "    .dataframe thead th {\n",
       "        text-align: right;\n",
       "    }\n",
       "</style>\n",
       "<table border=\"1\" class=\"dataframe\">\n",
       "  <thead>\n",
       "    <tr style=\"text-align: right;\">\n",
       "      <th></th>\n",
       "      <th>ip</th>\n",
       "      <th>count</th>\n",
       "      <th>size</th>\n",
       "    </tr>\n",
       "  </thead>\n",
       "  <tbody>\n",
       "    <tr>\n",
       "      <th>0</th>\n",
       "      <td>1.181.155.221</td>\n",
       "      <td>2</td>\n",
       "      <td>7488973</td>\n",
       "    </tr>\n",
       "    <tr>\n",
       "      <th>1</th>\n",
       "      <td>1.231.29.243</td>\n",
       "      <td>5</td>\n",
       "      <td>52541</td>\n",
       "    </tr>\n",
       "    <tr>\n",
       "      <th>2</th>\n",
       "      <td>1.80.170.113</td>\n",
       "      <td>48</td>\n",
       "      <td>1149826</td>\n",
       "    </tr>\n",
       "    <tr>\n",
       "      <th>3</th>\n",
       "      <td>100.26.241.232</td>\n",
       "      <td>3</td>\n",
       "      <td>32297</td>\n",
       "    </tr>\n",
       "    <tr>\n",
       "      <th>4</th>\n",
       "      <td>100.26.3.190</td>\n",
       "      <td>6</td>\n",
       "      <td>1753001</td>\n",
       "    </tr>\n",
       "    <tr>\n",
       "      <th>...</th>\n",
       "      <td>...</td>\n",
       "      <td>...</td>\n",
       "      <td>...</td>\n",
       "    </tr>\n",
       "    <tr>\n",
       "      <th>9077</th>\n",
       "      <td>96.75.243.153</td>\n",
       "      <td>1</td>\n",
       "      <td>1083576</td>\n",
       "    </tr>\n",
       "    <tr>\n",
       "      <th>9078</th>\n",
       "      <td>98.196.145.178</td>\n",
       "      <td>1</td>\n",
       "      <td>1369628</td>\n",
       "    </tr>\n",
       "    <tr>\n",
       "      <th>9079</th>\n",
       "      <td>98.33.218.211</td>\n",
       "      <td>2</td>\n",
       "      <td>12680</td>\n",
       "    </tr>\n",
       "    <tr>\n",
       "      <th>9080</th>\n",
       "      <td>99.30.181.252</td>\n",
       "      <td>3</td>\n",
       "      <td>1385250</td>\n",
       "    </tr>\n",
       "    <tr>\n",
       "      <th>9081</th>\n",
       "      <td>99.57.138.207</td>\n",
       "      <td>1</td>\n",
       "      <td>9080</td>\n",
       "    </tr>\n",
       "  </tbody>\n",
       "</table>\n",
       "<p>9082 rows × 3 columns</p>\n",
       "</div>"
      ],
      "text/plain": [
       "                  ip  count     size\n",
       "0      1.181.155.221      2  7488973\n",
       "1       1.231.29.243      5    52541\n",
       "2       1.80.170.113     48  1149826\n",
       "3     100.26.241.232      3    32297\n",
       "4       100.26.3.190      6  1753001\n",
       "...              ...    ...      ...\n",
       "9077   96.75.243.153      1  1083576\n",
       "9078  98.196.145.178      1  1369628\n",
       "9079   98.33.218.211      2    12680\n",
       "9080   99.30.181.252      3  1385250\n",
       "9081   99.57.138.207      1     9080\n",
       "\n",
       "[9082 rows x 3 columns]"
      ]
     },
     "execution_count": 56,
     "metadata": {},
     "output_type": "execute_result"
    }
   ],
   "source": [
    "df_groupby_ip = df.groupby('ip', as_index=False).size()\n",
    "df_groupby_ip = df_groupby_ip.rename(columns={'size':'count'})\n",
    "df_groupby_ip['size'] = df.groupby('ip', as_index=False)['size'].sum()['size']\n",
    "df_groupby_ip"
   ]
  },
  {
   "cell_type": "code",
   "execution_count": 57,
   "metadata": {},
   "outputs": [],
   "source": [
    "import pandas as pd\n",
    "import matplotlib.pyplot as plt\n",
    "from sklearn.preprocessing import MinMaxScaler\n",
    "from sklearn.cluster import KMeans"
   ]
  },
  {
   "cell_type": "code",
   "execution_count": 58,
   "metadata": {},
   "outputs": [
    {
     "data": {
      "text/html": [
       "<div>\n",
       "<style scoped>\n",
       "    .dataframe tbody tr th:only-of-type {\n",
       "        vertical-align: middle;\n",
       "    }\n",
       "\n",
       "    .dataframe tbody tr th {\n",
       "        vertical-align: top;\n",
       "    }\n",
       "\n",
       "    .dataframe thead th {\n",
       "        text-align: right;\n",
       "    }\n",
       "</style>\n",
       "<table border=\"1\" class=\"dataframe\">\n",
       "  <thead>\n",
       "    <tr style=\"text-align: right;\">\n",
       "      <th></th>\n",
       "      <th>ip</th>\n",
       "      <th>count</th>\n",
       "      <th>size</th>\n",
       "    </tr>\n",
       "  </thead>\n",
       "  <tbody>\n",
       "    <tr>\n",
       "      <th>0</th>\n",
       "      <td>1.181.155.221</td>\n",
       "      <td>2</td>\n",
       "      <td>7488973</td>\n",
       "    </tr>\n",
       "    <tr>\n",
       "      <th>1</th>\n",
       "      <td>1.231.29.243</td>\n",
       "      <td>5</td>\n",
       "      <td>52541</td>\n",
       "    </tr>\n",
       "    <tr>\n",
       "      <th>2</th>\n",
       "      <td>1.80.170.113</td>\n",
       "      <td>48</td>\n",
       "      <td>1149826</td>\n",
       "    </tr>\n",
       "    <tr>\n",
       "      <th>3</th>\n",
       "      <td>100.26.241.232</td>\n",
       "      <td>3</td>\n",
       "      <td>32297</td>\n",
       "    </tr>\n",
       "    <tr>\n",
       "      <th>4</th>\n",
       "      <td>100.26.3.190</td>\n",
       "      <td>6</td>\n",
       "      <td>1753001</td>\n",
       "    </tr>\n",
       "    <tr>\n",
       "      <th>...</th>\n",
       "      <td>...</td>\n",
       "      <td>...</td>\n",
       "      <td>...</td>\n",
       "    </tr>\n",
       "    <tr>\n",
       "      <th>9077</th>\n",
       "      <td>96.75.243.153</td>\n",
       "      <td>1</td>\n",
       "      <td>1083576</td>\n",
       "    </tr>\n",
       "    <tr>\n",
       "      <th>9078</th>\n",
       "      <td>98.196.145.178</td>\n",
       "      <td>1</td>\n",
       "      <td>1369628</td>\n",
       "    </tr>\n",
       "    <tr>\n",
       "      <th>9079</th>\n",
       "      <td>98.33.218.211</td>\n",
       "      <td>2</td>\n",
       "      <td>12680</td>\n",
       "    </tr>\n",
       "    <tr>\n",
       "      <th>9080</th>\n",
       "      <td>99.30.181.252</td>\n",
       "      <td>3</td>\n",
       "      <td>1385250</td>\n",
       "    </tr>\n",
       "    <tr>\n",
       "      <th>9081</th>\n",
       "      <td>99.57.138.207</td>\n",
       "      <td>1</td>\n",
       "      <td>9080</td>\n",
       "    </tr>\n",
       "  </tbody>\n",
       "</table>\n",
       "<p>9082 rows × 3 columns</p>\n",
       "</div>"
      ],
      "text/plain": [
       "                  ip  count     size\n",
       "0      1.181.155.221      2  7488973\n",
       "1       1.231.29.243      5    52541\n",
       "2       1.80.170.113     48  1149826\n",
       "3     100.26.241.232      3    32297\n",
       "4       100.26.3.190      6  1753001\n",
       "...              ...    ...      ...\n",
       "9077   96.75.243.153      1  1083576\n",
       "9078  98.196.145.178      1  1369628\n",
       "9079   98.33.218.211      2    12680\n",
       "9080   99.30.181.252      3  1385250\n",
       "9081   99.57.138.207      1     9080\n",
       "\n",
       "[9082 rows x 3 columns]"
      ]
     },
     "execution_count": 58,
     "metadata": {},
     "output_type": "execute_result"
    }
   ],
   "source": [
    "df_groupby_ip"
   ]
  },
  {
   "cell_type": "markdown",
   "metadata": {},
   "source": [
    "Escalo datos"
   ]
  },
  {
   "cell_type": "code",
   "execution_count": 59,
   "metadata": {},
   "outputs": [],
   "source": [
    "scaler = MinMaxScaler().fit(df_groupby_ip[['count','size']].values)"
   ]
  },
  {
   "cell_type": "code",
   "execution_count": 60,
   "metadata": {},
   "outputs": [],
   "source": [
    "df_cluster = pd.DataFrame(scaler.transform(df_groupby_ip[['count','size']].values),\n",
    "                       columns=[\"cantidad\", \"tamaño\"])"
   ]
  },
  {
   "cell_type": "code",
   "execution_count": 61,
   "metadata": {},
   "outputs": [
    {
     "data": {
      "text/html": [
       "<div>\n",
       "<style scoped>\n",
       "    .dataframe tbody tr th:only-of-type {\n",
       "        vertical-align: middle;\n",
       "    }\n",
       "\n",
       "    .dataframe tbody tr th {\n",
       "        vertical-align: top;\n",
       "    }\n",
       "\n",
       "    .dataframe thead th {\n",
       "        text-align: right;\n",
       "    }\n",
       "</style>\n",
       "<table border=\"1\" class=\"dataframe\">\n",
       "  <thead>\n",
       "    <tr style=\"text-align: right;\">\n",
       "      <th></th>\n",
       "      <th>cantidad</th>\n",
       "      <th>tamaño</th>\n",
       "    </tr>\n",
       "  </thead>\n",
       "  <tbody>\n",
       "    <tr>\n",
       "      <th>0</th>\n",
       "      <td>0.000364</td>\n",
       "      <td>0.002907</td>\n",
       "    </tr>\n",
       "    <tr>\n",
       "      <th>1</th>\n",
       "      <td>0.001454</td>\n",
       "      <td>0.000020</td>\n",
       "    </tr>\n",
       "    <tr>\n",
       "      <th>2</th>\n",
       "      <td>0.017085</td>\n",
       "      <td>0.000446</td>\n",
       "    </tr>\n",
       "    <tr>\n",
       "      <th>3</th>\n",
       "      <td>0.000727</td>\n",
       "      <td>0.000012</td>\n",
       "    </tr>\n",
       "    <tr>\n",
       "      <th>4</th>\n",
       "      <td>0.001818</td>\n",
       "      <td>0.000680</td>\n",
       "    </tr>\n",
       "    <tr>\n",
       "      <th>...</th>\n",
       "      <td>...</td>\n",
       "      <td>...</td>\n",
       "    </tr>\n",
       "    <tr>\n",
       "      <th>9077</th>\n",
       "      <td>0.000000</td>\n",
       "      <td>0.000421</td>\n",
       "    </tr>\n",
       "    <tr>\n",
       "      <th>9078</th>\n",
       "      <td>0.000000</td>\n",
       "      <td>0.000532</td>\n",
       "    </tr>\n",
       "    <tr>\n",
       "      <th>9079</th>\n",
       "      <td>0.000364</td>\n",
       "      <td>0.000005</td>\n",
       "    </tr>\n",
       "    <tr>\n",
       "      <th>9080</th>\n",
       "      <td>0.000727</td>\n",
       "      <td>0.000538</td>\n",
       "    </tr>\n",
       "    <tr>\n",
       "      <th>9081</th>\n",
       "      <td>0.000000</td>\n",
       "      <td>0.000003</td>\n",
       "    </tr>\n",
       "  </tbody>\n",
       "</table>\n",
       "<p>9082 rows × 2 columns</p>\n",
       "</div>"
      ],
      "text/plain": [
       "      cantidad    tamaño\n",
       "0     0.000364  0.002907\n",
       "1     0.001454  0.000020\n",
       "2     0.017085  0.000446\n",
       "3     0.000727  0.000012\n",
       "4     0.001818  0.000680\n",
       "...        ...       ...\n",
       "9077  0.000000  0.000421\n",
       "9078  0.000000  0.000532\n",
       "9079  0.000364  0.000005\n",
       "9080  0.000727  0.000538\n",
       "9081  0.000000  0.000003\n",
       "\n",
       "[9082 rows x 2 columns]"
      ]
     },
     "execution_count": 61,
     "metadata": {},
     "output_type": "execute_result"
    }
   ],
   "source": [
    "df_cluster"
   ]
  },
  {
   "cell_type": "code",
   "execution_count": 62,
   "metadata": {},
   "outputs": [],
   "source": [
    "kmeans = KMeans(n_clusters=5).fit(df_cluster.values)"
   ]
  },
  {
   "cell_type": "code",
   "execution_count": 63,
   "metadata": {},
   "outputs": [],
   "source": [
    "df_cluster[\"cluster\"] = kmeans.labels_"
   ]
  },
  {
   "cell_type": "code",
   "execution_count": null,
   "metadata": {},
   "outputs": [],
   "source": []
  },
  {
   "cell_type": "markdown",
   "metadata": {},
   "source": [
    "Dibujo"
   ]
  },
  {
   "cell_type": "code",
   "execution_count": 64,
   "metadata": {},
   "outputs": [
    {
     "data": {
      "image/png": "[encoded data removed]",
      "text/plain": [
       "<Figure size 600x500 with 1 Axes>"
      ]
     },
     "metadata": {
      "needs_background": "light"
     },
     "output_type": "display_data"
    }
   ],
   "source": [
    "plt.figure(figsize=(6, 5), dpi=100)\n",
    "\n",
    "colores = [\"red\", \"blue\", \"orange\", \"black\", \"purple\", \"pink\", \"brown\"]\n",
    "\n",
    "for cluster in range(kmeans.n_clusters):\n",
    "    plt.scatter(df_cluster[df_cluster[\"cluster\"] == cluster][\"cantidad\"],\n",
    "                df_cluster[df_cluster[\"cluster\"] == cluster][\"tamaño\"],\n",
    "                marker=\"o\", s=180, color=colores[cluster], alpha=0.5)\n",
    "    \n",
    "    plt.scatter(kmeans.cluster_centers_[cluster][0], \n",
    "                kmeans.cluster_centers_[cluster][1], \n",
    "                marker=\"P\", s=280, color=colores[cluster])\n",
    "\n",
    "plt.title(\"Ips\", fontsize=20)\n",
    "plt.xlabel(\"Cantidad de bytes descargados\", fontsize=15)\n",
    "plt.ylabel(\"Cantidad de requests\", fontsize=15)\n",
    "plt.text(1.15, 0.2, \"K = %i\" % kmeans.n_clusters, fontsize=25)\n",
    "plt.text(1.15, 0, \"Inercia = %0.2f\" % kmeans.inertia_, fontsize=25)\n",
    "plt.xlim(-0.1, 1.1)\n",
    "plt.ylim(-0.1, 1.1)    \n",
    "plt.show()\n",
    "\n"
   ]
  },
  {
   "cell_type": "markdown",
   "metadata": {},
   "source": [
    "es bot o no\n",
    "* clasificar, entrenar, score\n",
    "* volver a clasificar de otra manera, entrenar, score\n",
    "\n",
    "comportamiento abusivo\n",
    "* \n",
    "\n",
    "autopersive\n",
    "* "
   ]
  },
  {
   "cell_type": "markdown",
   "metadata": {},
   "source": []
  },
  {
   "cell_type": "markdown",
   "metadata": {},
   "source": []
  },
  {
   "cell_type": "markdown",
   "metadata": {},
   "source": [
    "Ver DavidBouldin o Silouethe\n",
    "Usar los clusters como etiquetas y hacer kmeans\n",
    "\n",
    "https://python-bloggers.com/2021/06/davies-bouldin-index-for-k-means-clustering-evaluation-in-python/\n",
    "https://medium.com/mlearning-ai/deciding-number-of-clusters-using-gap-statistics-davies-bouldin-index-calinski-harabasz-index-2ce9acfb6118\n"
   ]
  },
  {
   "cell_type": "code",
   "execution_count": 65,
   "metadata": {},
   "outputs": [],
   "source": [
    "from sklearn.cluster import KMeans\n",
    "from sklearn.metrics import davies_bouldin_score\n",
    "import matplotlib.pyplot as plt"
   ]
  },
  {
   "cell_type": "code",
   "execution_count": 66,
   "metadata": {},
   "outputs": [
    {
     "data": {
      "text/html": [
       "<div>\n",
       "<style scoped>\n",
       "    .dataframe tbody tr th:only-of-type {\n",
       "        vertical-align: middle;\n",
       "    }\n",
       "\n",
       "    .dataframe tbody tr th {\n",
       "        vertical-align: top;\n",
       "    }\n",
       "\n",
       "    .dataframe thead th {\n",
       "        text-align: right;\n",
       "    }\n",
       "</style>\n",
       "<table border=\"1\" class=\"dataframe\">\n",
       "  <thead>\n",
       "    <tr style=\"text-align: right;\">\n",
       "      <th></th>\n",
       "      <th>cantidad</th>\n",
       "      <th>tamaño</th>\n",
       "      <th>cluster</th>\n",
       "    </tr>\n",
       "  </thead>\n",
       "  <tbody>\n",
       "    <tr>\n",
       "      <th>0</th>\n",
       "      <td>0.000364</td>\n",
       "      <td>0.002907</td>\n",
       "      <td>0</td>\n",
       "    </tr>\n",
       "    <tr>\n",
       "      <th>1</th>\n",
       "      <td>0.001454</td>\n",
       "      <td>0.000020</td>\n",
       "      <td>0</td>\n",
       "    </tr>\n",
       "    <tr>\n",
       "      <th>2</th>\n",
       "      <td>0.017085</td>\n",
       "      <td>0.000446</td>\n",
       "      <td>0</td>\n",
       "    </tr>\n",
       "    <tr>\n",
       "      <th>3</th>\n",
       "      <td>0.000727</td>\n",
       "      <td>0.000012</td>\n",
       "      <td>0</td>\n",
       "    </tr>\n",
       "    <tr>\n",
       "      <th>4</th>\n",
       "      <td>0.001818</td>\n",
       "      <td>0.000680</td>\n",
       "      <td>0</td>\n",
       "    </tr>\n",
       "    <tr>\n",
       "      <th>...</th>\n",
       "      <td>...</td>\n",
       "      <td>...</td>\n",
       "      <td>...</td>\n",
       "    </tr>\n",
       "    <tr>\n",
       "      <th>9077</th>\n",
       "      <td>0.000000</td>\n",
       "      <td>0.000421</td>\n",
       "      <td>0</td>\n",
       "    </tr>\n",
       "    <tr>\n",
       "      <th>9078</th>\n",
       "      <td>0.000000</td>\n",
       "      <td>0.000532</td>\n",
       "      <td>0</td>\n",
       "    </tr>\n",
       "    <tr>\n",
       "      <th>9079</th>\n",
       "      <td>0.000364</td>\n",
       "      <td>0.000005</td>\n",
       "      <td>0</td>\n",
       "    </tr>\n",
       "    <tr>\n",
       "      <th>9080</th>\n",
       "      <td>0.000727</td>\n",
       "      <td>0.000538</td>\n",
       "      <td>0</td>\n",
       "    </tr>\n",
       "    <tr>\n",
       "      <th>9081</th>\n",
       "      <td>0.000000</td>\n",
       "      <td>0.000003</td>\n",
       "      <td>0</td>\n",
       "    </tr>\n",
       "  </tbody>\n",
       "</table>\n",
       "<p>9082 rows × 3 columns</p>\n",
       "</div>"
      ],
      "text/plain": [
       "      cantidad    tamaño  cluster\n",
       "0     0.000364  0.002907        0\n",
       "1     0.001454  0.000020        0\n",
       "2     0.017085  0.000446        0\n",
       "3     0.000727  0.000012        0\n",
       "4     0.001818  0.000680        0\n",
       "...        ...       ...      ...\n",
       "9077  0.000000  0.000421        0\n",
       "9078  0.000000  0.000532        0\n",
       "9079  0.000364  0.000005        0\n",
       "9080  0.000727  0.000538        0\n",
       "9081  0.000000  0.000003        0\n",
       "\n",
       "[9082 rows x 3 columns]"
      ]
     },
     "execution_count": 66,
     "metadata": {},
     "output_type": "execute_result"
    }
   ],
   "source": [
    "df_cluster"
   ]
  },
  {
   "cell_type": "code",
   "execution_count": 67,
   "metadata": {},
   "outputs": [],
   "source": [
    "results = {}\n",
    "for i in range(2,11):\n",
    "    kmeans = KMeans(n_clusters=i, random_state=30)\n",
    "    labels = kmeans.fit_predict(df_cluster)\n",
    "    db_index = davies_bouldin_score(df_cluster, labels)\n",
    "    results.update({i: db_index})"
   ]
  },
  {
   "cell_type": "code",
   "execution_count": 68,
   "metadata": {},
   "outputs": [
    {
     "data": {
      "image/png": "[encoded data removed]",
      "text/plain": [
       "<Figure size 432x288 with 1 Axes>"
      ]
     },
     "metadata": {
      "needs_background": "light"
     },
     "output_type": "display_data"
    }
   ],
   "source": [
    "plt.plot(list(results.keys()), list(results.values()))\n",
    "plt.xlabel(\"Number of clusters\")\n",
    "plt.ylabel(\"Davies-Boulding Index\")\n",
    "plt.show()"
   ]
  },
  {
   "cell_type": "code",
   "execution_count": 69,
   "metadata": {},
   "outputs": [],
   "source": [
    "from sklearn.model_selection import train_test_split\n",
    "\n",
    "datos_entrena, datos_prueba, clase_entrena, clase_prueba = train_test_split(\n",
    "    df_cluster[[\"cantidad\", \"tamaño\"]],\n",
    "    df_cluster[\"cluster\"], \n",
    "    test_size=0.30)\n"
   ]
  },
  {
   "cell_type": "code",
   "execution_count": 70,
   "metadata": {},
   "outputs": [
    {
     "name": "stdout",
     "output_type": "stream",
     "text": [
      "0.9996330275229358\n",
      "|--- cantidad <= 0.03\n",
      "|   |--- tamaño <= 0.04\n",
      "|   |   |--- class: 0\n",
      "|   |--- tamaño >  0.04\n",
      "|   |   |--- class: 4\n",
      "|--- cantidad >  0.03\n",
      "|   |--- cantidad <= 0.22\n",
      "|   |   |--- tamaño <= 0.20\n",
      "|   |   |   |--- tamaño <= 0.01\n",
      "|   |   |   |   |--- cantidad <= 0.05\n",
      "|   |   |   |   |   |--- class: 0\n",
      "|   |   |   |   |--- cantidad >  0.05\n",
      "|   |   |   |   |   |--- class: 4\n",
      "|   |   |   |--- tamaño >  0.01\n",
      "|   |   |   |   |--- class: 4\n",
      "|   |   |--- tamaño >  0.20\n",
      "|   |   |   |--- class: 3\n",
      "|   |--- cantidad >  0.22\n",
      "|   |   |--- tamaño <= 0.12\n",
      "|   |   |   |--- class: 1\n",
      "|   |   |--- tamaño >  0.12\n",
      "|   |   |   |--- cantidad <= 0.64\n",
      "|   |   |   |   |--- class: 3\n",
      "|   |   |   |--- cantidad >  0.64\n",
      "|   |   |   |   |--- class: 2\n",
      "\n"
     ]
    },
    {
     "data": {
      "image/png": "[encoded data removed]",
      "text/plain": [
       "<Figure size 864x432 with 1 Axes>"
      ]
     },
     "metadata": {
      "needs_background": "light"
     },
     "output_type": "display_data"
    }
   ],
   "source": [
    "from sklearn import tree\n",
    "\n",
    "arbol_decision = tree.DecisionTreeClassifier(criterion=\"entropy\")\n",
    "\n",
    "arbol = arbol_decision.fit(datos_entrena, clase_entrena)\n",
    "\n",
    "accuracy = arbol_decision.score(datos_prueba, clase_prueba)\n",
    "\n",
    "print(accuracy)\n",
    "\n",
    "print(tree.export_text(arbol,\n",
    "                      feature_names=[\"cantidad\", \"tamaño\"]))\n",
    "plt.figure(figsize=(12, 6))\n",
    "tree.plot_tree(arbol, \n",
    "              feature_names=[\"cantidad\", \"tamaño\"])\n",
    "plt.show()\n",
    "\n"
   ]
  }
 ],
 "metadata": {
  "interpreter": {
   "hash": "323f3daf613934cbc2131bc14f6ed6640dd8862511c72730bbc3cfd27a94f888"
  },
  "kernelspec": {
   "display_name": "Python 3.10.4 ('mineria-datos')",
   "language": "python",
   "name": "python3"
  },
  "language_info": {
   "codemirror_mode": {
    "name": "ipython",
    "version": 3
   },
   "file_extension": ".py",
   "mimetype": "text/x-python",
   "name": "python",
   "nbconvert_exporter": "python",
   "pygments_lexer": "ipython3",
   "version": "3.9.12"
  },
  "orig_nbformat": 4
 },
 "nbformat": 4,
 "nbformat_minor": 2
}
