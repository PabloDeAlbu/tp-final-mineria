{
 "cells": [
  {
   "cell_type": "markdown",
   "metadata": {},
   "source": [
    "Se utilizará como conjunto de datos un archivo de texto donde se registran los accesos (log) al servidor web Apache del repositorio SEDICI. "
   ]
  },
  {
   "cell_type": "code",
   "execution_count": 1,
   "metadata": {},
   "outputs": [],
   "source": [
    "from apachelogs import LogParser\n",
    "parser = LogParser(\"%h %l %u %t \\\"%r\\\" %>s %b \\\"%{Referer}i\\\" \\\"%{User-Agent}i\\\"\")"
   ]
  },
  {
   "cell_type": "markdown",
   "metadata": {},
   "source": [
    "A continuación se muestra un ejemplo de como se registra un acceso y los datos que se pueden obtener del mismo:"
   ]
  },
  {
   "cell_type": "code",
   "execution_count": 2,
   "metadata": {},
   "outputs": [
    {
     "name": "stdout",
     "output_type": "stream",
     "text": [
      "IP del cliente: 54.36.148.250\n",
      "Identidad del usuario determinado por identd: None\n",
      "Nombre de usuario determinado por autenticación HTTP: None\n",
      "Fecha en la que el servidor termina de procesar el request: 2021-11-08 00:00:14-03:00\n",
      "Request del cliente: GET /bitstream/handle/10915/37522/Tesis%20Ignacio%20Perez%20de%20Berti.pdf.jpg?isAllowed=y&sequence=3 HTTP/1.1\n",
      "Código de respuesta que devuelve el servidor al cliente: 200\n",
      "Referer (URI desde la que se realiza la solicitud):None\n",
      "Navegador que hace la petición:Mozilla/5.0 (compatible; AhrefsBot/7.0; +http://ahrefs.com/robot/)\n",
      "tamaño de la respuesta al cliente (en bytes):4737\n"
     ]
    }
   ],
   "source": [
    "example = '54.36.148.250 - - [08/Nov/2021:00:00:14 -0300] \"GET /bitstream/handle/10915/37522/Tesis%20Ignacio%20Perez%20de%20Berti.pdf.jpg?isAllowed=y&sequence=3 HTTP/1.1\" 200 4737 \"-\" \"Mozilla/5.0 (compatible; AhrefsBot/7.0; +http://ahrefs.com/robot/)\"'\n",
    "entry = parser.parse(example)\n",
    "print(\"IP del cliente: \" + entry.directives[\"%h\"])\n",
    "print(\"Identidad del usuario determinado por identd: \" + str(entry.directives[\"%l\"]))\n",
    "print(\"Nombre de usuario determinado por autenticación HTTP: \" + str(entry.directives[\"%u\"]))\n",
    "print(\"Fecha en la que el servidor termina de procesar el request: \" + str(entry.directives[\"%t\"]))\n",
    "print(\"Request del cliente: \" + str(entry.directives[\"%r\"]))\n",
    "print(\"Código de respuesta que devuelve el servidor al cliente: \" + str(entry.directives[\"%>s\"]))\n",
    "print('Referer (URI desde la que se realiza la solicitud):' + str(entry.headers_in[\"Referer\"]))\n",
    "print('Navegador que hace la petición:'+ str(entry.headers_in[\"User-Agent\"])) \n",
    "print(\"tamaño de la respuesta al cliente (en bytes):\" + str(entry.directives[\"%b\"]))"
   ]
  },
  {
   "cell_type": "markdown",
   "metadata": {},
   "source": [
    "Vamos a presindir de la identidad del usuario (definida por el protocolo identd) y del nombre de usuario autenticado ya que todos los datos explorados resultaron ser nulos. Para eso se creará un Dataframe, de la librería [Pandas](https://pandas.pydata.org/docs/reference/api/pandas.DataFrame.html), que irá almacenando de cada uno de los eventos de acceso al servidor los siguientes datos:\n",
    "\n",
    "* IP del cliente\n",
    "* fecha en la que el servidor termina de procesar el request\n",
    "* request del cliente\n",
    "* código que define el estado de la respuesta que el servidor devuelve al cliente\n",
    "* tamaño de la respuesta al cliente (en bytes)"
   ]
  },
  {
   "cell_type": "code",
   "execution_count": 4,
   "metadata": {},
   "outputs": [
    {
     "name": "stdout",
     "output_type": "stream",
     "text": [
      "\n"
     ]
    }
   ],
   "source": [
    "import pandas as pd, sys\n",
    "import os\n",
    "print()\n",
    "\n",
    "path = os.path.realpath(os.path.join(os.path.dirname(os.path.abspath(\"__file__\")), 'data/access-dspace80.log'))\n",
    "\n",
    "\n",
    "file = open(path)\n",
    "lines = file.readlines()\n",
    "\n",
    "df_log = pd.DataFrame({'ip': [], 'time': [], 'request': [], 'status': [], 'size': [], 'Referer': [],'User_agent': [] })\n",
    "lines = open(path).readlines()\n"
   ]
  },
  {
   "cell_type": "markdown",
   "metadata": {},
   "source": [
    "Itero por cada línea del log y voy construyendo un dataframe llamado df_log"
   ]
  },
  {
   "cell_type": "code",
   "execution_count": null,
   "metadata": {},
   "outputs": [],
   "source": [
    "for index, entry in enumerate(lines):\n",
    "    try:\n",
    "        data = parser.parse(entry);\n",
    "    except:\n",
    "        sys.stderr.write(\"Unable to parse %s\" % entry)\n",
    "    ip = data.directives[\"%h\"]\n",
    "    time = data.directives[\"%t\"]\n",
    "    request = data.directives[\"%r\"]\n",
    "    status = data.directives[\"%>s\"]\n",
    "    size = data.directives[\"%b\"]\n",
    "    referer = data.headers_in[\"Referer\"]\n",
    "    user_agent = data.headers_in[\"User-Agent\"]\n",
    "    aux = pd.DataFrame([[ip, time, request, status, size, referer, user_agent]], columns=['ip', 'time', 'request', 'status', 'size', 'referer','user_agent'])\n",
    "    df_log = pd.concat([df_log, aux])"
   ]
  },
  {
   "cell_type": "markdown",
   "metadata": {},
   "source": [
    "Almaceno df_log en un archivo parquet para ser procesado más adelante"
   ]
  },
  {
   "cell_type": "markdown",
   "metadata": {},
   "source": [
    "df_log = df_log.convert_dtypes()\n",
    "df_log.to_parquet('data/df_log.parquet.gzip', compression='gzip', index=False)"
   ]
  },
  {
   "cell_type": "markdown",
   "metadata": {},
   "source": [
    "El dataframe quedo de la siguiente manera"
   ]
  },
  {
   "cell_type": "code",
   "execution_count": 9,
   "metadata": {},
   "outputs": [
    {
     "data": {
      "text/html": [
       "<div>\n",
       "<style scoped>\n",
       "    .dataframe tbody tr th:only-of-type {\n",
       "        vertical-align: middle;\n",
       "    }\n",
       "\n",
       "    .dataframe tbody tr th {\n",
       "        vertical-align: top;\n",
       "    }\n",
       "\n",
       "    .dataframe thead th {\n",
       "        text-align: right;\n",
       "    }\n",
       "</style>\n",
       "<table border=\"1\" class=\"dataframe\">\n",
       "  <thead>\n",
       "    <tr style=\"text-align: right;\">\n",
       "      <th></th>\n",
       "      <th>ip</th>\n",
       "      <th>time</th>\n",
       "      <th>request</th>\n",
       "      <th>status</th>\n",
       "      <th>size</th>\n",
       "      <th>Referer</th>\n",
       "      <th>User_agent</th>\n",
       "    </tr>\n",
       "  </thead>\n",
       "  <tbody>\n",
       "    <tr>\n",
       "      <th>0</th>\n",
       "      <td>3.224.220.101</td>\n",
       "      <td>2022-03-31 00:00:13-03:00</td>\n",
       "      <td>GET /handle/10915/60216/browse?authority=http%...</td>\n",
       "      <td>200</td>\n",
       "      <td>7165</td>\n",
       "      <td>&lt;NA&gt;</td>\n",
       "      <td>Mozilla/5.0 (Macintosh; Intel Mac OS X 10_10_1...</td>\n",
       "    </tr>\n",
       "    <tr>\n",
       "      <th>0</th>\n",
       "      <td>173.252.107.9</td>\n",
       "      <td>2022-03-31 00:00:13-03:00</td>\n",
       "      <td>GET /handle/10915/45833 HTTP/1.1</td>\n",
       "      <td>200</td>\n",
       "      <td>9539</td>\n",
       "      <td>&lt;NA&gt;</td>\n",
       "      <td>facebookexternalhit/1.1 (+http://www.facebook....</td>\n",
       "    </tr>\n",
       "    <tr>\n",
       "      <th>0</th>\n",
       "      <td>173.252.107.3</td>\n",
       "      <td>2022-03-31 00:00:13-03:00</td>\n",
       "      <td>GET /handle/10915/31292 HTTP/1.1</td>\n",
       "      <td>200</td>\n",
       "      <td>9512</td>\n",
       "      <td>&lt;NA&gt;</td>\n",
       "      <td>facebookexternalhit/1.1 (+http://www.facebook....</td>\n",
       "    </tr>\n",
       "    <tr>\n",
       "      <th>0</th>\n",
       "      <td>173.252.107.22</td>\n",
       "      <td>2022-03-31 00:00:14-03:00</td>\n",
       "      <td>GET /handle/10915/66507 HTTP/1.1</td>\n",
       "      <td>200</td>\n",
       "      <td>10170</td>\n",
       "      <td>&lt;NA&gt;</td>\n",
       "      <td>facebookexternalhit/1.1 (+http://www.facebook....</td>\n",
       "    </tr>\n",
       "    <tr>\n",
       "      <th>0</th>\n",
       "      <td>173.252.107.9</td>\n",
       "      <td>2022-03-31 00:00:14-03:00</td>\n",
       "      <td>GET /handle/10915/66507 HTTP/1.1</td>\n",
       "      <td>200</td>\n",
       "      <td>10170</td>\n",
       "      <td>&lt;NA&gt;</td>\n",
       "      <td>facebookexternalhit/1.1 (+http://www.facebook....</td>\n",
       "    </tr>\n",
       "    <tr>\n",
       "      <th>...</th>\n",
       "      <td>...</td>\n",
       "      <td>...</td>\n",
       "      <td>...</td>\n",
       "      <td>...</td>\n",
       "      <td>...</td>\n",
       "      <td>...</td>\n",
       "      <td>...</td>\n",
       "    </tr>\n",
       "    <tr>\n",
       "      <th>0</th>\n",
       "      <td>181.230.136.160</td>\n",
       "      <td>2022-03-30 20:20:22-03:00</td>\n",
       "      <td>GET /bitstream/handle/10915/49230/05%20Orienta...</td>\n",
       "      <td>200</td>\n",
       "      <td>1679</td>\n",
       "      <td>http://sedici.unlp.edu.ar/handle/10915/49230</td>\n",
       "      <td>Mozilla/5.0 (Windows NT 10.0; WOW64) AppleWebK...</td>\n",
       "    </tr>\n",
       "    <tr>\n",
       "      <th>0</th>\n",
       "      <td>190.36.19.241</td>\n",
       "      <td>2022-03-30 20:20:22-03:00</td>\n",
       "      <td>GET /bitstream/handle/10915/1344/Conclusiones....</td>\n",
       "      <td>200</td>\n",
       "      <td>88849</td>\n",
       "      <td>https://www.google.com/</td>\n",
       "      <td>Mozilla/5.0 (Windows NT 10.0; Win64; x64) Appl...</td>\n",
       "    </tr>\n",
       "    <tr>\n",
       "      <th>0</th>\n",
       "      <td>144.76.14.40</td>\n",
       "      <td>2022-03-30 20:20:23-03:00</td>\n",
       "      <td>GET /discover?filter=http%3A%2F%2Fvoc.sedici.u...</td>\n",
       "      <td>200</td>\n",
       "      <td>8747</td>\n",
       "      <td>&lt;NA&gt;</td>\n",
       "      <td>Mozilla/5.0 (Windows NT 10.0; Win64; x64; tren...</td>\n",
       "    </tr>\n",
       "    <tr>\n",
       "      <th>0</th>\n",
       "      <td>52.70.240.171</td>\n",
       "      <td>2022-03-30 20:20:23-03:00</td>\n",
       "      <td>GET /handle/10915/61697/discover?filter=comuni...</td>\n",
       "      <td>200</td>\n",
       "      <td>7717</td>\n",
       "      <td>&lt;NA&gt;</td>\n",
       "      <td>Mozilla/5.0 (Macintosh; Intel Mac OS X 10_10_1...</td>\n",
       "    </tr>\n",
       "    <tr>\n",
       "      <th>0</th>\n",
       "      <td>40.77.167.23</td>\n",
       "      <td>2022-03-30 20:20:24-03:00</td>\n",
       "      <td>GET /handle/10915/31/browse?authority=8663&amp;eta...</td>\n",
       "      <td>200</td>\n",
       "      <td>6874</td>\n",
       "      <td>&lt;NA&gt;</td>\n",
       "      <td>Mozilla/5.0 (compatible; bingbot/2.0; +http://...</td>\n",
       "    </tr>\n",
       "  </tbody>\n",
       "</table>\n",
       "<p>376889 rows × 7 columns</p>\n",
       "</div>"
      ],
      "text/plain": [
       "                 ip                      time  \\\n",
       "0     3.224.220.101 2022-03-31 00:00:13-03:00   \n",
       "0     173.252.107.9 2022-03-31 00:00:13-03:00   \n",
       "0     173.252.107.3 2022-03-31 00:00:13-03:00   \n",
       "0    173.252.107.22 2022-03-31 00:00:14-03:00   \n",
       "0     173.252.107.9 2022-03-31 00:00:14-03:00   \n",
       "..              ...                       ...   \n",
       "0   181.230.136.160 2022-03-30 20:20:22-03:00   \n",
       "0     190.36.19.241 2022-03-30 20:20:22-03:00   \n",
       "0      144.76.14.40 2022-03-30 20:20:23-03:00   \n",
       "0     52.70.240.171 2022-03-30 20:20:23-03:00   \n",
       "0      40.77.167.23 2022-03-30 20:20:24-03:00   \n",
       "\n",
       "                                              request  status   size  \\\n",
       "0   GET /handle/10915/60216/browse?authority=http%...     200   7165   \n",
       "0                    GET /handle/10915/45833 HTTP/1.1     200   9539   \n",
       "0                    GET /handle/10915/31292 HTTP/1.1     200   9512   \n",
       "0                    GET /handle/10915/66507 HTTP/1.1     200  10170   \n",
       "0                    GET /handle/10915/66507 HTTP/1.1     200  10170   \n",
       "..                                                ...     ...    ...   \n",
       "0   GET /bitstream/handle/10915/49230/05%20Orienta...     200   1679   \n",
       "0   GET /bitstream/handle/10915/1344/Conclusiones....     200  88849   \n",
       "0   GET /discover?filter=http%3A%2F%2Fvoc.sedici.u...     200   8747   \n",
       "0   GET /handle/10915/61697/discover?filter=comuni...     200   7717   \n",
       "0   GET /handle/10915/31/browse?authority=8663&eta...     200   6874   \n",
       "\n",
       "                                         Referer  \\\n",
       "0                                           <NA>   \n",
       "0                                           <NA>   \n",
       "0                                           <NA>   \n",
       "0                                           <NA>   \n",
       "0                                           <NA>   \n",
       "..                                           ...   \n",
       "0   http://sedici.unlp.edu.ar/handle/10915/49230   \n",
       "0                        https://www.google.com/   \n",
       "0                                           <NA>   \n",
       "0                                           <NA>   \n",
       "0                                           <NA>   \n",
       "\n",
       "                                           User_agent  \n",
       "0   Mozilla/5.0 (Macintosh; Intel Mac OS X 10_10_1...  \n",
       "0   facebookexternalhit/1.1 (+http://www.facebook....  \n",
       "0   facebookexternalhit/1.1 (+http://www.facebook....  \n",
       "0   facebookexternalhit/1.1 (+http://www.facebook....  \n",
       "0   facebookexternalhit/1.1 (+http://www.facebook....  \n",
       "..                                                ...  \n",
       "0   Mozilla/5.0 (Windows NT 10.0; WOW64) AppleWebK...  \n",
       "0   Mozilla/5.0 (Windows NT 10.0; Win64; x64) Appl...  \n",
       "0   Mozilla/5.0 (Windows NT 10.0; Win64; x64; tren...  \n",
       "0   Mozilla/5.0 (Macintosh; Intel Mac OS X 10_10_1...  \n",
       "0   Mozilla/5.0 (compatible; bingbot/2.0; +http://...  \n",
       "\n",
       "[376889 rows x 7 columns]"
      ]
     },
     "execution_count": 9,
     "metadata": {},
     "output_type": "execute_result"
    }
   ],
   "source": [
    "df_log"
   ]
  }
 ],
 "metadata": {
  "interpreter": {
   "hash": "323f3daf613934cbc2131bc14f6ed6640dd8862511c72730bbc3cfd27a94f888"
  },
  "kernelspec": {
   "display_name": "Python 3.10.4 ('mineria-datos')",
   "language": "python",
   "name": "python3"
  },
  "language_info": {
   "codemirror_mode": {
    "name": "ipython",
    "version": 3
   },
   "file_extension": ".py",
   "mimetype": "text/x-python",
   "name": "python",
   "nbconvert_exporter": "python",
   "pygments_lexer": "ipython3",
   "version": "3.9.12"
  },
  "orig_nbformat": 4
 },
 "nbformat": 4,
 "nbformat_minor": 2
}
