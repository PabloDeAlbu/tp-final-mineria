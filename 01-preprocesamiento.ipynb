{
 "cells": [
  {
   "cell_type": "code",
   "execution_count": 1,
   "metadata": {},
   "outputs": [
    {
     "name": "stdout",
     "output_type": "stream",
     "text": [
      "<class 'pandas.core.frame.DataFrame'>\n",
      "RangeIndex: 376889 entries, 0 to 376888\n",
      "Data columns (total 7 columns):\n",
      " #   Column      Non-Null Count   Dtype                    \n",
      "---  ------      --------------   -----                    \n",
      " 0   ip          376889 non-null  string                   \n",
      " 1   time        376889 non-null  datetime64[ns, UTC-03:00]\n",
      " 2   request     376889 non-null  string                   \n",
      " 3   status      376889 non-null  Int64                    \n",
      " 4   size        376889 non-null  Int64                    \n",
      " 5   referer     125383 non-null  string                   \n",
      " 6   user_agent  376542 non-null  string                   \n",
      "dtypes: Int64(2), datetime64[ns, UTC-03:00](1), string(4)\n",
      "memory usage: 20.8 MB\n"
     ]
    }
   ],
   "source": [
    "import pandas as pd \n",
    "import matplotlib.pyplot as plt\n",
    "import numpy as np\n",
    "from sklearn import preprocessing \n",
    "\n",
    "df = pd.read_parquet('data/df_log.parquet.gzip')\n",
    "df = df.convert_dtypes()\n",
    "df.info()"
   ]
  },
  {
   "cell_type": "code",
   "execution_count": 2,
   "metadata": {},
   "outputs": [
    {
     "data": {
      "text/html": [
       "<div>\n",
       "<style scoped>\n",
       "    .dataframe tbody tr th:only-of-type {\n",
       "        vertical-align: middle;\n",
       "    }\n",
       "\n",
       "    .dataframe tbody tr th {\n",
       "        vertical-align: top;\n",
       "    }\n",
       "\n",
       "    .dataframe thead th {\n",
       "        text-align: right;\n",
       "    }\n",
       "</style>\n",
       "<table border=\"1\" class=\"dataframe\">\n",
       "  <thead>\n",
       "    <tr style=\"text-align: right;\">\n",
       "      <th></th>\n",
       "      <th>ip</th>\n",
       "      <th>time</th>\n",
       "      <th>request</th>\n",
       "      <th>status</th>\n",
       "      <th>size</th>\n",
       "      <th>referer</th>\n",
       "      <th>user_agent</th>\n",
       "    </tr>\n",
       "  </thead>\n",
       "  <tbody>\n",
       "    <tr>\n",
       "      <th>0</th>\n",
       "      <td>3.224.220.101</td>\n",
       "      <td>2022-03-31 00:00:13-03:00</td>\n",
       "      <td>GET /handle/10915/60216/browse?authority=http%...</td>\n",
       "      <td>200</td>\n",
       "      <td>7165</td>\n",
       "      <td>&lt;NA&gt;</td>\n",
       "      <td>Mozilla/5.0 (Macintosh; Intel Mac OS X 10_10_1...</td>\n",
       "    </tr>\n",
       "    <tr>\n",
       "      <th>1</th>\n",
       "      <td>173.252.107.9</td>\n",
       "      <td>2022-03-31 00:00:13-03:00</td>\n",
       "      <td>GET /handle/10915/45833 HTTP/1.1</td>\n",
       "      <td>200</td>\n",
       "      <td>9539</td>\n",
       "      <td>&lt;NA&gt;</td>\n",
       "      <td>facebookexternalhit/1.1 (+http://www.facebook....</td>\n",
       "    </tr>\n",
       "    <tr>\n",
       "      <th>2</th>\n",
       "      <td>173.252.107.3</td>\n",
       "      <td>2022-03-31 00:00:13-03:00</td>\n",
       "      <td>GET /handle/10915/31292 HTTP/1.1</td>\n",
       "      <td>200</td>\n",
       "      <td>9512</td>\n",
       "      <td>&lt;NA&gt;</td>\n",
       "      <td>facebookexternalhit/1.1 (+http://www.facebook....</td>\n",
       "    </tr>\n",
       "    <tr>\n",
       "      <th>3</th>\n",
       "      <td>173.252.107.22</td>\n",
       "      <td>2022-03-31 00:00:14-03:00</td>\n",
       "      <td>GET /handle/10915/66507 HTTP/1.1</td>\n",
       "      <td>200</td>\n",
       "      <td>10170</td>\n",
       "      <td>&lt;NA&gt;</td>\n",
       "      <td>facebookexternalhit/1.1 (+http://www.facebook....</td>\n",
       "    </tr>\n",
       "    <tr>\n",
       "      <th>4</th>\n",
       "      <td>173.252.107.9</td>\n",
       "      <td>2022-03-31 00:00:14-03:00</td>\n",
       "      <td>GET /handle/10915/66507 HTTP/1.1</td>\n",
       "      <td>200</td>\n",
       "      <td>10170</td>\n",
       "      <td>&lt;NA&gt;</td>\n",
       "      <td>facebookexternalhit/1.1 (+http://www.facebook....</td>\n",
       "    </tr>\n",
       "  </tbody>\n",
       "</table>\n",
       "</div>"
      ],
      "text/plain": [
       "               ip                      time  \\\n",
       "0   3.224.220.101 2022-03-31 00:00:13-03:00   \n",
       "1   173.252.107.9 2022-03-31 00:00:13-03:00   \n",
       "2   173.252.107.3 2022-03-31 00:00:13-03:00   \n",
       "3  173.252.107.22 2022-03-31 00:00:14-03:00   \n",
       "4   173.252.107.9 2022-03-31 00:00:14-03:00   \n",
       "\n",
       "                                             request  status   size referer  \\\n",
       "0  GET /handle/10915/60216/browse?authority=http%...     200   7165    <NA>   \n",
       "1                   GET /handle/10915/45833 HTTP/1.1     200   9539    <NA>   \n",
       "2                   GET /handle/10915/31292 HTTP/1.1     200   9512    <NA>   \n",
       "3                   GET /handle/10915/66507 HTTP/1.1     200  10170    <NA>   \n",
       "4                   GET /handle/10915/66507 HTTP/1.1     200  10170    <NA>   \n",
       "\n",
       "                                          user_agent  \n",
       "0  Mozilla/5.0 (Macintosh; Intel Mac OS X 10_10_1...  \n",
       "1  facebookexternalhit/1.1 (+http://www.facebook....  \n",
       "2  facebookexternalhit/1.1 (+http://www.facebook....  \n",
       "3  facebookexternalhit/1.1 (+http://www.facebook....  \n",
       "4  facebookexternalhit/1.1 (+http://www.facebook....  "
      ]
     },
     "execution_count": 2,
     "metadata": {},
     "output_type": "execute_result"
    }
   ],
   "source": [
    "df.head(5)"
   ]
  },
  {
   "cell_type": "markdown",
   "metadata": {},
   "source": [
    "### Calculo si evento fue realizado por un bot conocido"
   ]
  },
  {
   "cell_type": "code",
   "execution_count": 7,
   "metadata": {},
   "outputs": [],
   "source": [
    "import re\n",
    "\n",
    "def counter_bots(entry):\n",
    "    # regex obtenida a partir de https://github.com/atmire/COUNTER-Robots/blob/master/generated/COUNTER_Robots_list.txt\n",
    "    return int(bool(re.search(\"(bot|^Buck\\/[0-9]|spider|crawl|^.?$|[^a]fish|^IDA$|^ruby$|^@ozilla\\/\\d|^脝脝陆芒潞贸碌脛$|^破解后的$|AddThis|A6-Indexer|ADmantX|alexa|Alexandria(\\s|\\+)prototype(\\s|\\+)project|AllenTrack|almaden|appie|API[\\+\\s]scraper|Arachni|Arachmo|architext|ArchiveTeam|aria2\\/\\d|arks|^Array$|asterias|atomz|axios\\/\\d|BDFetch|Betsie|baidu|biglotron|BingPreview|binlar|bjaaland|Blackboard[\\+\\s]Safeassign|blaiz-bee|bloglines|blogpulse|boitho\\.com-dc|bookmark-manager|Brutus\\/AET|BUbiNG|bwh3_user_agent|CakePHP|celestial|cfnetwork|checklink|checkprivacy|China\\sLocal\\sBrowse\\s2\\.6|Citoid|cloakDetect|coccoc\\/1\\.0|Code\\sSample\\sWeb\\sClient|ColdFusion|collection@infegy.com|com\\.plumanalytics|combine|contentmatch|ContentSmartz|convera|core|Cortana|CoverScout|crusty\\/\\d|curl\\/|cursor|custo|DataCha0s\\/2\\.0|daum(oa)?|^\\%?default\\%?$|DeuSu\\/|Dispatch\\/\\d|Docoloc|docomo|Download\\+Master|Drupal|DSurf|DTS Agent|EasyBib[\\+\\s]AutoCite[\\+\\s]|easydl|EBSCO\\sEJS\\sContent\\sServer|EcoSearch|ELinks\\/|EmailSiphon|EmailWolf|Embedly|EThOS\\+\\(British\\+Library\\)|facebookexternalhit\\/|favorg|Faveeo\\/\\d|FDM(\\s|\\+)\\d|Feedbin|feedburner|FeedFetcher|feedreader|ferret|Fetch(\\s|\\+)API(\\s|\\+)Request|findlinks|findthatfile|^FileDown$|^Filter$|^firefox$|^FOCA|Fulltext|Funnelback|Genieo|GetRight|geturl|GigablastOpenSource|G-i-g-a-b-o-t|GLMSLinkAnalysis|Goldfire(\\s|\\+)Server|google|Grammarly|GroupHigh\\/\\d|grub|gulliver|gvfs\\/|harvest|heritrix|holmes|htdig|htmlparser|HeadlessChrome|HttpComponents\\/1.1|HTTPFetcher|http.?client|httpget|httpx|httrack|ia_archiver|ichiro|iktomi|ilse|Indy Library|^integrity\\/\\d|internetseer|intute|iSiloX|iskanie|^java\\/\\d{1,2}.\\d|jeeves|Jersey\\/\\d|jobo|Koha|kyluka|larbin|libcurl|libhttp|libwww|lilina|^LinkAnalyser|link.?check|LinkLint-checkonly|^LinkParser\\/|^LinkSaver\\/|linkscan|LinkTiger|linkwalker|lipperhey|livejournal\\.com|LOCKSS|LongURL.API|ltx71|lwp|lycos[_+]|MaCoCu|mail\\.ru|MarcEdit|mediapartners-google|megite|MetaURI[\\+\\s]API\\/\\d\\.\\d|Microsoft(\\s|\\+)URL(\\s|\\+)Control|Microsoft Office Existence Discovery|Microsoft Office Protocol Discovery|Microsoft-WebDAV-MiniRedir|mimas|mnogosearch|moget|motor|^Mozilla$|^Mozilla.4\\.0$|^Mozilla\\/4\\.0\\+\\(compatible;\\)$|^Mozilla\\/4\\.0\\+\\(compatible;\\+ICS\\)$|^Mozilla\\/4\\.5\\+\\[en]\\+\\(Win98;\\+I\\)$|^Mozilla.5\\.0$|^Mozilla\\/5.0\\+\\(compatible;\\+MSIE\\+6\\.0;\\+Windows\\+NT\\+5\\.0\\)$|^Mozilla\\/5\\.0\\+like\\+Gecko$|^Mozilla\\/5.0(\\s|\\+)Gecko\\/20100115(\\s|\\+)Firefox\\/3.6$|^MSIE|MuscatFerre|myweb|nagios|^NetAnts\\/\\d|netcraft|netluchs|newspaper\\/\\d|ng\\/2\\.|^Ning\\/\\d|no_user_agent|nomad|nutch|^oaDOI$|ocelli|Offline(\\s|\\+)Navigator|OgScrper|okhttp|onetszukaj|^Opera\\/4$|OurBrowser|panscient|parsijoo|^Pattern\\/\\d|Pcore-HTTP|pear\\.php\\.net|perman|PHP\\/|pidcheck|pioneer|playmusic\\.com|playstarmusic\\.com|^Postgenomic(\\s|\\+)v2|powermarks|proximic|PycURL|python|Qwantify|rambler|ReactorNetty\\/\\d|Readpaper|redalert|Riddler|robozilla|rss|scan4mail|scientificcommons|scirus|scooter|Scrapy\\/\\d|ScoutJet|^scrutiny\\/\\d|SearchBloxIntra|shoutcast|Site24x7|SkypeUriPreview|slurp|sogou|speedy|sqlmap|SrceDAMP|Strider|summify|sunrise|Sysomos|T\\-H\\-U\\-N\\-D\\-E\\-R\\-S\\-T\\-O\\-N\\-E|tailrank|Teleport(\\s|\\+)Pro|Teoma|The[\\+\\s]Knowledge[\\+\\s]AI|titan|^Traackr\\.com$|Trello|Trove|Turnitin|twiceler|Typhoeus|ucsd|ultraseek|^undefined$|^unknown$|Unpaywall|URL2File|urlaliasbuilder|urllib|^user.?agent$|^User-Agent|validator|virus.detector|voila|^voltron$|voyager\\/|w3af\\.org|Wanadoo|Web(\\s|\\+)Downloader|WebCloner|webcollage|WebCopier|Webinator|weblayers|Webmetrics|webmirror|webmon|weborama-fetcher|webreaper|WebStripper|WebZIP|Wget|WhatsApp|wordpress|worm|www\\.gnip\\.com|WWW-Mechanize|xenu|y!j|yacy|yahoo|yandex|Yeti\\/\\d|Zabbix|ZoteroTranslationServer|zeus|zyborg|7siters)\", entry, re.IGNORECASE)))\n",
    "\n",
    "df['is_bot'] = df['user_agent'].apply(lambda x: counter_bots(str(x)))"
   ]
  },
  {
   "cell_type": "code",
   "execution_count": 34,
   "metadata": {},
   "outputs": [
    {
     "data": {
      "text/html": [
       "<div>\n",
       "<style scoped>\n",
       "    .dataframe tbody tr th:only-of-type {\n",
       "        vertical-align: middle;\n",
       "    }\n",
       "\n",
       "    .dataframe tbody tr th {\n",
       "        vertical-align: top;\n",
       "    }\n",
       "\n",
       "    .dataframe thead th {\n",
       "        text-align: right;\n",
       "    }\n",
       "</style>\n",
       "<table border=\"1\" class=\"dataframe\">\n",
       "  <thead>\n",
       "    <tr style=\"text-align: right;\">\n",
       "      <th></th>\n",
       "      <th>ip</th>\n",
       "      <th>request_lenght</th>\n",
       "      <th>size</th>\n",
       "      <th>is_bot</th>\n",
       "    </tr>\n",
       "  </thead>\n",
       "  <tbody>\n",
       "    <tr>\n",
       "      <th>0</th>\n",
       "      <td>3.224.220.101</td>\n",
       "      <td>112</td>\n",
       "      <td>7165</td>\n",
       "      <td>1</td>\n",
       "    </tr>\n",
       "    <tr>\n",
       "      <th>1</th>\n",
       "      <td>173.252.107.9</td>\n",
       "      <td>32</td>\n",
       "      <td>9539</td>\n",
       "      <td>1</td>\n",
       "    </tr>\n",
       "    <tr>\n",
       "      <th>2</th>\n",
       "      <td>173.252.107.3</td>\n",
       "      <td>32</td>\n",
       "      <td>9512</td>\n",
       "      <td>1</td>\n",
       "    </tr>\n",
       "    <tr>\n",
       "      <th>3</th>\n",
       "      <td>173.252.107.22</td>\n",
       "      <td>32</td>\n",
       "      <td>10170</td>\n",
       "      <td>1</td>\n",
       "    </tr>\n",
       "    <tr>\n",
       "      <th>4</th>\n",
       "      <td>173.252.107.9</td>\n",
       "      <td>32</td>\n",
       "      <td>10170</td>\n",
       "      <td>1</td>\n",
       "    </tr>\n",
       "    <tr>\n",
       "      <th>...</th>\n",
       "      <td>...</td>\n",
       "      <td>...</td>\n",
       "      <td>...</td>\n",
       "      <td>...</td>\n",
       "    </tr>\n",
       "    <tr>\n",
       "      <th>376884</th>\n",
       "      <td>181.230.136.160</td>\n",
       "      <td>133</td>\n",
       "      <td>1679</td>\n",
       "      <td>0</td>\n",
       "    </tr>\n",
       "    <tr>\n",
       "      <th>376885</th>\n",
       "      <td>190.36.19.241</td>\n",
       "      <td>81</td>\n",
       "      <td>88849</td>\n",
       "      <td>0</td>\n",
       "    </tr>\n",
       "    <tr>\n",
       "      <th>376886</th>\n",
       "      <td>144.76.14.40</td>\n",
       "      <td>216</td>\n",
       "      <td>8747</td>\n",
       "      <td>1</td>\n",
       "    </tr>\n",
       "    <tr>\n",
       "      <th>376887</th>\n",
       "      <td>52.70.240.171</td>\n",
       "      <td>235</td>\n",
       "      <td>7717</td>\n",
       "      <td>1</td>\n",
       "    </tr>\n",
       "    <tr>\n",
       "      <th>376888</th>\n",
       "      <td>40.77.167.23</td>\n",
       "      <td>98</td>\n",
       "      <td>6874</td>\n",
       "      <td>1</td>\n",
       "    </tr>\n",
       "  </tbody>\n",
       "</table>\n",
       "<p>376889 rows × 4 columns</p>\n",
       "</div>"
      ],
      "text/plain": [
       "                     ip  request_lenght   size  is_bot\n",
       "0         3.224.220.101             112   7165       1\n",
       "1         173.252.107.9              32   9539       1\n",
       "2         173.252.107.3              32   9512       1\n",
       "3        173.252.107.22              32  10170       1\n",
       "4         173.252.107.9              32  10170       1\n",
       "...                 ...             ...    ...     ...\n",
       "376884  181.230.136.160             133   1679       0\n",
       "376885    190.36.19.241              81  88849       0\n",
       "376886     144.76.14.40             216   8747       1\n",
       "376887    52.70.240.171             235   7717       1\n",
       "376888     40.77.167.23              98   6874       1\n",
       "\n",
       "[376889 rows x 4 columns]"
      ]
     },
     "execution_count": 34,
     "metadata": {},
     "output_type": "execute_result"
    }
   ],
   "source": [
    "df = df[['ip', 'request', 'size', 'is_bot']]\n",
    "df['request'] = df['request'].apply(lambda x: len(x))\n",
    "df.rename(columns={'request': 'request_lenght'}, inplace=True)\n",
    "df"
   ]
  },
  {
   "cell_type": "markdown",
   "metadata": {},
   "source": [
    "Agrupo por ip, en un nuevo dataframe llamado *df_groupby_ip* y le agrego un columna *count* con la cantidad de requests hechas "
   ]
  },
  {
   "cell_type": "code",
   "execution_count": 35,
   "metadata": {},
   "outputs": [],
   "source": [
    "df_groupby_ip = df.groupby(['ip'], as_index=False).size().rename(columns={'size':'count'})"
   ]
  },
  {
   "cell_type": "markdown",
   "metadata": {},
   "source": [
    "Agrego a *df_groupby_ip* una columna con la cantidad de bytes descargados en un día"
   ]
  },
  {
   "cell_type": "code",
   "execution_count": 36,
   "metadata": {},
   "outputs": [],
   "source": [
    "df_groupby_ip['size'] = df.groupby(['ip'], as_index=False)['size'].sum()['size']"
   ]
  },
  {
   "cell_type": "markdown",
   "metadata": {},
   "source": [
    "Agrego la columna *request_lenght* a *df_groupby_ip*"
   ]
  },
  {
   "cell_type": "code",
   "execution_count": 38,
   "metadata": {},
   "outputs": [],
   "source": [
    "df_groupby_ip['request_lenght'] = df['request_lenght']"
   ]
  },
  {
   "cell_type": "markdown",
   "metadata": {},
   "source": [
    "Agrego a *df_groupby_ip* una columna *is_bot* si al menos uno de los *request* de una IP es reconocido como bot "
   ]
  },
  {
   "cell_type": "code",
   "execution_count": 39,
   "metadata": {},
   "outputs": [],
   "source": [
    "df_groupby_ip['is_bot'] = df.groupby(['ip'], as_index=False)['is_bot'].sum()['is_bot']\n",
    "df_groupby_ip['is_bot'] = np.where(df_groupby_ip[\"is_bot\"] > 0, 1, 0)"
   ]
  },
  {
   "cell_type": "code",
   "execution_count": 40,
   "metadata": {},
   "outputs": [
    {
     "data": {
      "text/html": [
       "<div>\n",
       "<style scoped>\n",
       "    .dataframe tbody tr th:only-of-type {\n",
       "        vertical-align: middle;\n",
       "    }\n",
       "\n",
       "    .dataframe tbody tr th {\n",
       "        vertical-align: top;\n",
       "    }\n",
       "\n",
       "    .dataframe thead th {\n",
       "        text-align: right;\n",
       "    }\n",
       "</style>\n",
       "<table border=\"1\" class=\"dataframe\">\n",
       "  <thead>\n",
       "    <tr style=\"text-align: right;\">\n",
       "      <th></th>\n",
       "      <th>ip</th>\n",
       "      <th>count</th>\n",
       "      <th>size</th>\n",
       "      <th>request_lenght</th>\n",
       "      <th>is_bot</th>\n",
       "    </tr>\n",
       "  </thead>\n",
       "  <tbody>\n",
       "    <tr>\n",
       "      <th>0</th>\n",
       "      <td>1.14.96.114</td>\n",
       "      <td>21</td>\n",
       "      <td>184774</td>\n",
       "      <td>112</td>\n",
       "      <td>1</td>\n",
       "    </tr>\n",
       "    <tr>\n",
       "      <th>1</th>\n",
       "      <td>1.145.209.230</td>\n",
       "      <td>1</td>\n",
       "      <td>8786</td>\n",
       "      <td>32</td>\n",
       "      <td>0</td>\n",
       "    </tr>\n",
       "    <tr>\n",
       "      <th>2</th>\n",
       "      <td>1.192.0.148</td>\n",
       "      <td>1</td>\n",
       "      <td>1579532</td>\n",
       "      <td>32</td>\n",
       "      <td>0</td>\n",
       "    </tr>\n",
       "    <tr>\n",
       "      <th>3</th>\n",
       "      <td>1.192.1.4</td>\n",
       "      <td>1</td>\n",
       "      <td>461240</td>\n",
       "      <td>32</td>\n",
       "      <td>0</td>\n",
       "    </tr>\n",
       "    <tr>\n",
       "      <th>4</th>\n",
       "      <td>1.231.29.243</td>\n",
       "      <td>7</td>\n",
       "      <td>70907</td>\n",
       "      <td>32</td>\n",
       "      <td>0</td>\n",
       "    </tr>\n",
       "    <tr>\n",
       "      <th>...</th>\n",
       "      <td>...</td>\n",
       "      <td>...</td>\n",
       "      <td>...</td>\n",
       "      <td>...</td>\n",
       "      <td>...</td>\n",
       "    </tr>\n",
       "    <tr>\n",
       "      <th>60006</th>\n",
       "      <td>99.179.18.55</td>\n",
       "      <td>1</td>\n",
       "      <td>3768662</td>\n",
       "      <td>211</td>\n",
       "      <td>0</td>\n",
       "    </tr>\n",
       "    <tr>\n",
       "      <th>60007</th>\n",
       "      <td>99.229.203.19</td>\n",
       "      <td>6</td>\n",
       "      <td>740181</td>\n",
       "      <td>77</td>\n",
       "      <td>0</td>\n",
       "    </tr>\n",
       "    <tr>\n",
       "      <th>60008</th>\n",
       "      <td>99.44.198.231</td>\n",
       "      <td>2</td>\n",
       "      <td>13285</td>\n",
       "      <td>230</td>\n",
       "      <td>0</td>\n",
       "    </tr>\n",
       "    <tr>\n",
       "      <th>60009</th>\n",
       "      <td>99.70.231.82</td>\n",
       "      <td>1</td>\n",
       "      <td>110833</td>\n",
       "      <td>151</td>\n",
       "      <td>0</td>\n",
       "    </tr>\n",
       "    <tr>\n",
       "      <th>60010</th>\n",
       "      <td>99.8.109.117</td>\n",
       "      <td>1</td>\n",
       "      <td>424484</td>\n",
       "      <td>76</td>\n",
       "      <td>0</td>\n",
       "    </tr>\n",
       "  </tbody>\n",
       "</table>\n",
       "<p>60011 rows × 5 columns</p>\n",
       "</div>"
      ],
      "text/plain": [
       "                  ip  count     size  request_lenght  is_bot\n",
       "0        1.14.96.114     21   184774             112       1\n",
       "1      1.145.209.230      1     8786              32       0\n",
       "2        1.192.0.148      1  1579532              32       0\n",
       "3          1.192.1.4      1   461240              32       0\n",
       "4       1.231.29.243      7    70907              32       0\n",
       "...              ...    ...      ...             ...     ...\n",
       "60006   99.179.18.55      1  3768662             211       0\n",
       "60007  99.229.203.19      6   740181              77       0\n",
       "60008  99.44.198.231      2    13285             230       0\n",
       "60009   99.70.231.82      1   110833             151       0\n",
       "60010   99.8.109.117      1   424484              76       0\n",
       "\n",
       "[60011 rows x 5 columns]"
      ]
     },
     "execution_count": 40,
     "metadata": {},
     "output_type": "execute_result"
    }
   ],
   "source": [
    "df_groupby_ip"
   ]
  },
  {
   "cell_type": "markdown",
   "metadata": {},
   "source": [
    "### Graficando los datos en escala original\n"
   ]
  },
  {
   "cell_type": "markdown",
   "metadata": {},
   "source": [
    "#### cantidad de request por IP"
   ]
  },
  {
   "cell_type": "code",
   "execution_count": 74,
   "metadata": {},
   "outputs": [
    {
     "data": {
      "image/png": "[encoded data removed]",
      "text/plain": [
       "<Figure size 1440x360 with 1 Axes>"
      ]
     },
     "metadata": {
      "needs_background": "light"
     },
     "output_type": "display_data"
    }
   ],
   "source": [
    "plt.figure(figsize=(20, 5))\n",
    "plt.plot(df_groupby_ip[\"count\"], color=\"blue\", markersize=6)\n",
    "plt.xlabel(\"Indice de evento en dataframe\")\n",
    "plt.ylabel(\"Cantidad de accesos\")\n",
    "plt.show()"
   ]
  },
  {
   "cell_type": "code",
   "execution_count": 91,
   "metadata": {},
   "outputs": [
    {
     "data": {
      "image/png": "[encoded data removed]",
      "text/plain": [
       "<Figure size 1440x360 with 1 Axes>"
      ]
     },
     "metadata": {
      "needs_background": "light"
     },
     "output_type": "display_data"
    }
   ],
   "source": [
    "plt.figure(figsize=(20, 5))\n",
    "plt.title(\"distribución de 'count'\")\n",
    "df_groupby_ip[\"count\"].plot.hist(color=\"blue\")\n",
    "plt.xlabel(\"Indice de evento en dataframe\")\n",
    "plt.ylabel(\"Cantidad de accesos\")\n",
    "plt.show()"
   ]
  },
  {
   "cell_type": "markdown",
   "metadata": {},
   "source": [
    "Bytes descargados"
   ]
  },
  {
   "cell_type": "code",
   "execution_count": 70,
   "metadata": {},
   "outputs": [
    {
     "data": {
      "image/png": "[encoded data removed]",
      "text/plain": [
       "<Figure size 1440x360 with 1 Axes>"
      ]
     },
     "metadata": {
      "needs_background": "light"
     },
     "output_type": "display_data"
    }
   ],
   "source": [
    "plt.figure(figsize=(20, 5))\n",
    "plt.plot(df_groupby_ip[\"size\"], color=\"orange\", markersize=6)\n",
    "plt.xlabel(\"Indice de evento en dataframe\")\n",
    "plt.ylabel(\"Bytes descargados\")\n",
    "plt.show()"
   ]
  },
  {
   "cell_type": "code",
   "execution_count": 93,
   "metadata": {},
   "outputs": [
    {
     "data": {
      "image/png": "[encoded data removed]",
      "text/plain": [
       "<Figure size 1440x360 with 1 Axes>"
      ]
     },
     "metadata": {
      "needs_background": "light"
     },
     "output_type": "display_data"
    }
   ],
   "source": [
    "plt.figure(figsize=(20, 5))\n",
    "df_groupby_ip[\"size\"].plot.hist(color=\"orange\")\n",
    "plt.xlabel(\"Indice de evento en dataframe\")\n",
    "plt.ylabel(\"Cantidad de accesos\")\n",
    "plt.show()"
   ]
  },
  {
   "cell_type": "markdown",
   "metadata": {},
   "source": [
    "Grafico para columna *bot*"
   ]
  },
  {
   "cell_type": "code",
   "execution_count": 71,
   "metadata": {},
   "outputs": [
    {
     "data": {
      "image/png": "[encoded data removed]",
      "text/plain": [
       "<Figure size 1440x360 with 1 Axes>"
      ]
     },
     "metadata": {
      "needs_background": "light"
     },
     "output_type": "display_data"
    }
   ],
   "source": [
    "plt.figure(figsize=(20, 5))\n",
    "plt.plot(df_groupby_ip[\"is_bot\"], linewidth=0, marker=\"o\", color=\"purple\")\n",
    "plt.xlabel(\"Indice de evento en dataframe\")\n",
    "plt.ylabel(\"Es bot\")\n",
    "plt.show()"
   ]
  },
  {
   "cell_type": "code",
   "execution_count": 94,
   "metadata": {},
   "outputs": [
    {
     "data": {
      "image/png": "[encoded data removed]",
      "text/plain": [
       "<Figure size 720x360 with 1 Axes>"
      ]
     },
     "metadata": {
      "needs_background": "light"
     },
     "output_type": "display_data"
    }
   ],
   "source": [
    "plt.figure(figsize=(10, 5))\n",
    "plt.title(\"distribución de 'bot'\")\n",
    "df_groupby_ip[\"is_bot\"].plot.hist(bins=2, color=\"purple\")\n",
    "plt.xlabel(\"Indice de evento en dataframe\")\n",
    "plt.ylabel(\"Es bot\")\n",
    "plt.show()"
   ]
  },
  {
   "cell_type": "markdown",
   "metadata": {},
   "source": [
    "Grafico para columna *request_lenght*"
   ]
  },
  {
   "cell_type": "code",
   "execution_count": 72,
   "metadata": {},
   "outputs": [
    {
     "data": {
      "image/png": "[encoded data removed]",
      "text/plain": [
       "<Figure size 1440x360 with 1 Axes>"
      ]
     },
     "metadata": {
      "needs_background": "light"
     },
     "output_type": "display_data"
    }
   ],
   "source": [
    "plt.figure(figsize=(20, 5))\n",
    "plt.plot(df_groupby_ip[\"request_lenght\"], color=\"red\", markersize=6)\n",
    "plt.xlabel(\"Indice de evento en dataframe\")\n",
    "plt.ylabel(\"Largo del request\")\n",
    "plt.show()"
   ]
  },
  {
   "cell_type": "code",
   "execution_count": 95,
   "metadata": {},
   "outputs": [
    {
     "data": {
      "image/png": "[encoded data removed]",
      "text/plain": [
       "<Figure size 1440x360 with 1 Axes>"
      ]
     },
     "metadata": {
      "needs_background": "light"
     },
     "output_type": "display_data"
    }
   ],
   "source": [
    "plt.figure(figsize=(20, 5))\n",
    "plt.title(\"distribución de 'request_lenght'\")\n",
    "df_groupby_ip[\"request_lenght\"].plot.hist(color=\"red\")\n",
    "plt.xlabel(\"Indice de evento en dataframe\")\n",
    "plt.ylabel(\"Largo del request\")\n",
    "plt.show()"
   ]
  },
  {
   "cell_type": "markdown",
   "metadata": {},
   "source": [
    "Veo matríz de coorrelación entre las dimensiones"
   ]
  },
  {
   "cell_type": "code",
   "execution_count": 102,
   "metadata": {},
   "outputs": [
    {
     "data": {
      "image/png": "[encoded data removed]",
      "text/plain": [
       "<Figure size 288x288 with 2 Axes>"
      ]
     },
     "metadata": {
      "needs_background": "light"
     },
     "output_type": "display_data"
    }
   ],
   "source": [
    "df_co = df_groupby_ip.iloc[:,1:]\n",
    "matriz = df_co.corr() # -1 (existe una relación fuerte)  0   1 (existe relación fuerte)\n",
    "plt.matshow(matriz, cmap=\"bwr\", vmin=-1, vmax=1)\n",
    "plt.xticks(range(4), df_co.columns, rotation=90)\n",
    "plt.yticks(range(4), df_co.columns)\n",
    "\n",
    "for i in range(len(matriz.columns)):\n",
    "    for j in range(len(matriz.columns)):\n",
    "        plt.text(i, j, round(matriz.iloc[i, j], 2),\n",
    "                 ha=\"center\", va=\"center\")\n",
    "\n",
    "\n",
    "plt.colorbar()\n",
    "plt.show()"
   ]
  },
  {
   "cell_type": "markdown",
   "metadata": {},
   "source": [
    "Quito *request_lenght* ya que solo se relaciona lo suficiente con ninguna otra dimensión"
   ]
  },
  {
   "cell_type": "code",
   "execution_count": 104,
   "metadata": {},
   "outputs": [
    {
     "data": {
      "text/html": [
       "<div>\n",
       "<style scoped>\n",
       "    .dataframe tbody tr th:only-of-type {\n",
       "        vertical-align: middle;\n",
       "    }\n",
       "\n",
       "    .dataframe tbody tr th {\n",
       "        vertical-align: top;\n",
       "    }\n",
       "\n",
       "    .dataframe thead th {\n",
       "        text-align: right;\n",
       "    }\n",
       "</style>\n",
       "<table border=\"1\" class=\"dataframe\">\n",
       "  <thead>\n",
       "    <tr style=\"text-align: right;\">\n",
       "      <th></th>\n",
       "      <th>ip</th>\n",
       "      <th>count</th>\n",
       "      <th>size</th>\n",
       "      <th>is_bot</th>\n",
       "    </tr>\n",
       "  </thead>\n",
       "  <tbody>\n",
       "    <tr>\n",
       "      <th>0</th>\n",
       "      <td>1.14.96.114</td>\n",
       "      <td>21</td>\n",
       "      <td>184774</td>\n",
       "      <td>1</td>\n",
       "    </tr>\n",
       "    <tr>\n",
       "      <th>1</th>\n",
       "      <td>1.145.209.230</td>\n",
       "      <td>1</td>\n",
       "      <td>8786</td>\n",
       "      <td>0</td>\n",
       "    </tr>\n",
       "    <tr>\n",
       "      <th>2</th>\n",
       "      <td>1.192.0.148</td>\n",
       "      <td>1</td>\n",
       "      <td>1579532</td>\n",
       "      <td>0</td>\n",
       "    </tr>\n",
       "    <tr>\n",
       "      <th>3</th>\n",
       "      <td>1.192.1.4</td>\n",
       "      <td>1</td>\n",
       "      <td>461240</td>\n",
       "      <td>0</td>\n",
       "    </tr>\n",
       "    <tr>\n",
       "      <th>4</th>\n",
       "      <td>1.231.29.243</td>\n",
       "      <td>7</td>\n",
       "      <td>70907</td>\n",
       "      <td>0</td>\n",
       "    </tr>\n",
       "    <tr>\n",
       "      <th>...</th>\n",
       "      <td>...</td>\n",
       "      <td>...</td>\n",
       "      <td>...</td>\n",
       "      <td>...</td>\n",
       "    </tr>\n",
       "    <tr>\n",
       "      <th>60006</th>\n",
       "      <td>99.179.18.55</td>\n",
       "      <td>1</td>\n",
       "      <td>3768662</td>\n",
       "      <td>0</td>\n",
       "    </tr>\n",
       "    <tr>\n",
       "      <th>60007</th>\n",
       "      <td>99.229.203.19</td>\n",
       "      <td>6</td>\n",
       "      <td>740181</td>\n",
       "      <td>0</td>\n",
       "    </tr>\n",
       "    <tr>\n",
       "      <th>60008</th>\n",
       "      <td>99.44.198.231</td>\n",
       "      <td>2</td>\n",
       "      <td>13285</td>\n",
       "      <td>0</td>\n",
       "    </tr>\n",
       "    <tr>\n",
       "      <th>60009</th>\n",
       "      <td>99.70.231.82</td>\n",
       "      <td>1</td>\n",
       "      <td>110833</td>\n",
       "      <td>0</td>\n",
       "    </tr>\n",
       "    <tr>\n",
       "      <th>60010</th>\n",
       "      <td>99.8.109.117</td>\n",
       "      <td>1</td>\n",
       "      <td>424484</td>\n",
       "      <td>0</td>\n",
       "    </tr>\n",
       "  </tbody>\n",
       "</table>\n",
       "<p>60011 rows × 4 columns</p>\n",
       "</div>"
      ],
      "text/plain": [
       "                  ip  count     size  is_bot\n",
       "0        1.14.96.114     21   184774       1\n",
       "1      1.145.209.230      1     8786       0\n",
       "2        1.192.0.148      1  1579532       0\n",
       "3          1.192.1.4      1   461240       0\n",
       "4       1.231.29.243      7    70907       0\n",
       "...              ...    ...      ...     ...\n",
       "60006   99.179.18.55      1  3768662       0\n",
       "60007  99.229.203.19      6   740181       0\n",
       "60008  99.44.198.231      2    13285       0\n",
       "60009   99.70.231.82      1   110833       0\n",
       "60010   99.8.109.117      1   424484       0\n",
       "\n",
       "[60011 rows x 4 columns]"
      ]
     },
     "execution_count": 104,
     "metadata": {},
     "output_type": "execute_result"
    }
   ],
   "source": [
    "df_groupby_ip.drop('request_lenght', axis=1, inplace=True)\n",
    "df_groupby_ip"
   ]
  },
  {
   "cell_type": "code",
   "execution_count": 105,
   "metadata": {},
   "outputs": [],
   "source": [
    "df_groupby_ip.to_parquet('data/df_groupby_ip.parquet.gzip', compression='gzip', index=False)"
   ]
  },
  {
   "cell_type": "markdown",
   "metadata": {},
   "source": [
    "### KMedias"
   ]
  },
  {
   "cell_type": "code",
   "execution_count": null,
   "metadata": {},
   "outputs": [],
   "source": [
    "from sklearn.metrics import davies_bouldin_score\n",
    "from sklearn.cluster import KMeans"
   ]
  },
  {
   "cell_type": "code",
   "execution_count": null,
   "metadata": {},
   "outputs": [],
   "source": [
    "db_indexes = {}\n",
    "for n in range(2,10):\n",
    "    kmeans = KMeans(n).fit(df_robust_scaler.values)\n",
    "    db_index = davies_bouldin_score(df_robust_scaler.values, kmeans.labels_)\n",
    "    db_indexes.update({n: db_index})"
   ]
  },
  {
   "cell_type": "code",
   "execution_count": null,
   "metadata": {},
   "outputs": [],
   "source": [
    "plt.plot(list(db_indexes.keys()), list(db_indexes.values()))\n",
    "plt.xlabel(\"Número de clusters\")\n",
    "plt.ylabel(\"Davies-Boulding Index\")\n",
    "plt.show()"
   ]
  },
  {
   "cell_type": "code",
   "execution_count": null,
   "metadata": {},
   "outputs": [],
   "source": [
    "n_clusters = 2\n",
    "kmeans = KMeans(n_clusters).fit(df_robust_scaler.values)\n",
    "df_groupby_ip[\"cluster\"] = kmeans.labels_\n",
    "df_robust_scaler[\"cluster\"] = kmeans.labels_\n",
    "df_robust_scaler"
   ]
  },
  {
   "cell_type": "code",
   "execution_count": null,
   "metadata": {},
   "outputs": [],
   "source": [
    "plt.figure(figsize=(6, 5), dpi=100)\n",
    "\n",
    "colores = [\"red\", \"blue\", \"orange\", \"black\", \"purple\", \"pink\", \"brown\"]\n",
    "for cluster in range(kmeans.n_clusters):\n",
    "    plt.scatter(df_groupby_ip[df_groupby_ip[\"cluster\"] == cluster][\"count\"],\n",
    "                df_groupby_ip[df_groupby_ip[\"cluster\"] == cluster][\"size\"],\n",
    "                marker=\"o\", s=180, color=colores[cluster], alpha=0.5, label='cluster ' + str(cluster))\n",
    "    \n",
    "    plt.scatter(kmeans.cluster_centers_[cluster][0], \n",
    "                kmeans.cluster_centers_[cluster][1], \n",
    "                marker=\"P\", s=280, color=colores[cluster], label='centroide ' + str(cluster) )\n",
    "\n",
    "plt.legend()\n",
    "\n",
    "plt.title(\"Descargas en un día por IP\", fontsize=20)\n",
    "plt.xlabel(\"Cantidad de bytes descargados\", fontsize=15)\n",
    "plt.ylabel(\"Cantidad de requests\", fontsize=15)\n",
    "plt.text(1.15, 0.2, \"K = %i\" % kmeans.n_clusters, fontsize=25)\n",
    "plt.show()"
   ]
  },
  {
   "cell_type": "markdown",
   "metadata": {},
   "source": [
    "A continuación se utilizará la técnica de [Arbol de clasificación](https://scikit-learn.org/stable/modules/tree.html#tree-algorithms-id3-c4-5-c5-0-and-cart) para explicar que criterios se usaron para el clustering"
   ]
  },
  {
   "cell_type": "code",
   "execution_count": null,
   "metadata": {},
   "outputs": [],
   "source": [
    "from sklearn.model_selection import train_test_split\n",
    "\n",
    "datos_entrena, datos_prueba, clase_entrena, clase_prueba = train_test_split(\n",
    "    df_groupby_ip[[\"count\", \"size\", \"is_bot\", \"request_lenght\"]],\n",
    "    df_groupby_ip[\"cluster\"], \n",
    "    test_size=0.30)\n"
   ]
  },
  {
   "cell_type": "code",
   "execution_count": null,
   "metadata": {},
   "outputs": [],
   "source": [
    "from sklearn import tree\n",
    "\n",
    "arbol_decision = tree.DecisionTreeClassifier(criterion=\"entropy\")\n",
    "\n",
    "arbol = arbol_decision.fit(datos_entrena, clase_entrena)\n",
    "\n",
    "accuracy = arbol_decision.score(datos_prueba, clase_prueba)\n",
    "\n",
    "print(accuracy)\n",
    "\n",
    "print(tree.export_text(arbol, feature_names=[\"cantidad\", \"tamaño\", \"is_bot\", 'request_lenght']))\n",
    "plt.figure(figsize=(40, 20))\n",
    "tree.plot_tree(arbol, feature_names=[\"cantidad\", \"tamaño\", \"is_bot\", \"request_lenght\"])\n",
    "plt.show()\n",
    "\n"
   ]
  },
  {
   "cell_type": "markdown",
   "metadata": {},
   "source": [
    "### KMedias con 6"
   ]
  },
  {
   "cell_type": "code",
   "execution_count": null,
   "metadata": {},
   "outputs": [],
   "source": [
    "n_clusters = 6\n",
    "kmeans = KMeans(n_clusters).fit(df_robust_scaler.values)\n",
    "df_groupby_ip[\"cluster\"] = kmeans.labels_\n",
    "df_robust_scaler[\"cluster\"] = kmeans.labels_\n",
    "\n",
    "plt.figure(figsize=(6, 5), dpi=100)\n",
    "\n",
    "colores = [\"red\", \"blue\", \"orange\", \"black\", \"purple\", \"pink\", \"brown\"]\n",
    "for cluster in range(kmeans.n_clusters):\n",
    "    plt.scatter(df_groupby_ip[df_groupby_ip[\"cluster\"] == cluster][\"count\"],\n",
    "                df_groupby_ip[df_groupby_ip[\"cluster\"] == cluster][\"size\"],\n",
    "                marker=\"o\", s=180, color=colores[cluster], alpha=0.5, label='cluster ' + str(cluster))\n",
    "    \n",
    "    plt.scatter(kmeans.cluster_centers_[cluster][0], \n",
    "                kmeans.cluster_centers_[cluster][1], \n",
    "                marker=\"P\", s=280, color=colores[cluster], label='centroide ' + str(cluster) )\n",
    "\n",
    "plt.legend()\n",
    "\n",
    "plt.title(\"Descargas en un día por IP\", fontsize=20)\n",
    "plt.xlabel(\"Cantidad de bytes descargados\", fontsize=15)\n",
    "plt.ylabel(\"Cantidad de requests\", fontsize=15)\n",
    "plt.text(1.15, 0.2, \"K = %i\" % kmeans.n_clusters, fontsize=25)\n",
    "plt.show()"
   ]
  },
  {
   "cell_type": "markdown",
   "metadata": {},
   "source": [
    "Árbol para explicar kmedias con 6 clusters"
   ]
  },
  {
   "cell_type": "code",
   "execution_count": null,
   "metadata": {},
   "outputs": [],
   "source": [
    "from sklearn.model_selection import train_test_split\n",
    "\n",
    "datos_entrena, datos_prueba, clase_entrena, clase_prueba = train_test_split(\n",
    "    df_groupby_ip[[\"count\", \"size\", \"is_bot\", \"request_lenght\"]],\n",
    "    df_groupby_ip[\"cluster\"], \n",
    "    test_size=0.30)\n",
    "\n",
    "from sklearn import tree\n",
    "\n",
    "arbol_decision = tree.DecisionTreeClassifier(criterion=\"entropy\")\n",
    "\n",
    "arbol = arbol_decision.fit(datos_entrena, clase_entrena)\n",
    "\n",
    "accuracy = arbol_decision.score(datos_prueba, clase_prueba)\n",
    "\n",
    "print(accuracy)\n",
    "\n",
    "print(tree.export_text(arbol, feature_names=[\"cantidad\", \"tamaño\", \"is_bot\", 'request_lenght']))\n",
    "plt.figure(figsize=(40, 20))\n",
    "tree.plot_tree(arbol, feature_names=[\"cantidad\", \"tamaño\", \"is_bot\", \"request_lenght\"])\n",
    "plt.show()\n",
    "\n"
   ]
  },
  {
   "cell_type": "code",
   "execution_count": null,
   "metadata": {},
   "outputs": [],
   "source": [
    "df_groupby_ip[(df_groupby_ip[\"cluster\"] != 1) & (df_groupby_ip[\"is_bot\"] == 0)]"
   ]
  }
 ],
 "metadata": {
  "interpreter": {
   "hash": "323f3daf613934cbc2131bc14f6ed6640dd8862511c72730bbc3cfd27a94f888"
  },
  "kernelspec": {
   "display_name": "Python 3.10.4 ('mineria-datos')",
   "language": "python",
   "name": "python3"
  },
  "language_info": {
   "codemirror_mode": {
    "name": "ipython",
    "version": 3
   },
   "file_extension": ".py",
   "mimetype": "text/x-python",
   "name": "python",
   "nbconvert_exporter": "python",
   "pygments_lexer": "ipython3",
   "version": "3.9.12"
  },
  "orig_nbformat": 4
 },
 "nbformat": 4,
 "nbformat_minor": 2
}
